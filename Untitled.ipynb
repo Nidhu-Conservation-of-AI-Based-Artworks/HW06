{
 "cells": [
  {
   "cell_type": "markdown",
   "id": "59a86a5c-460b-45d7-b6ee-3017637e8ddc",
   "metadata": {},
   "source": [
    "## 1. Translation Task"
   ]
  },
  {
   "cell_type": "markdown",
   "id": "f6e91489-7417-49c3-a3e6-7570788a7589",
   "metadata": {},
   "source": [
    "You can test the model by translating text from English to another language (e.g., French or Spanish). The T5 model is capable of translating, so let's try some simple English-to-French translation."
   ]
  },
  {
   "cell_type": "code",
   "execution_count": 26,
   "id": "f8edb33b-63e4-4d34-8ca9-9ed652222e2f",
   "metadata": {},
   "outputs": [
    {
     "data": {
      "application/vnd.jupyter.widget-view+json": {
       "model_id": "a45d16362cae41c4a936205130b6d860",
       "version_major": 2,
       "version_minor": 0
      },
      "text/plain": [
       "model.safetensors:   6%|5         | 52.4M/892M [00:00<?, ?B/s]"
      ]
     },
     "metadata": {},
     "output_type": "display_data"
    },
    {
     "data": {
      "application/vnd.jupyter.widget-view+json": {
       "model_id": "ca2a6d90498d4795ab5f99ec01bb0d16",
       "version_major": 2,
       "version_minor": 0
      },
      "text/plain": [
       "generation_config.json:   0%|          | 0.00/147 [00:00<?, ?B/s]"
      ]
     },
     "metadata": {},
     "output_type": "display_data"
    },
    {
     "data": {
      "application/vnd.jupyter.widget-view+json": {
       "model_id": "99e9cabb01a14bfba9fe6f528c2123d9",
       "version_major": 2,
       "version_minor": 0
      },
      "text/plain": [
       "spiece.model:   0%|          | 0.00/792k [00:00<?, ?B/s]"
      ]
     },
     "metadata": {},
     "output_type": "display_data"
    },
    {
     "data": {
      "application/vnd.jupyter.widget-view+json": {
       "model_id": "33d1fdd66d2743ce996152aee47257a9",
       "version_major": 2,
       "version_minor": 0
      },
      "text/plain": [
       "tokenizer.json:   0%|          | 0.00/1.39M [00:00<?, ?B/s]"
      ]
     },
     "metadata": {},
     "output_type": "display_data"
    },
    {
     "name": "stderr",
     "output_type": "stream",
     "text": [
      "Device set to use cuda:0\n"
     ]
    },
    {
     "name": "stdout",
     "output_type": "stream",
     "text": [
      "[{'translation_text': 'Bonjour, comment êtes-vous?'}]\n"
     ]
    }
   ],
   "source": [
    "from transformers import pipeline\n",
    "\n",
    "# Use Hugging Face pipeline for translation using T5 base model\n",
    "pipe = pipeline(\"translation_en_to_fr\", model=\"t5-base\")\n",
    "\n",
    "# Test with some text\n",
    "result = pipe(\"Hello, how are you?\")\n",
    "print(result)\n"
   ]
  },
  {
   "cell_type": "markdown",
   "id": "155fb737-d6a8-455a-b6d8-d214bb961aaa",
   "metadata": {},
   "source": [
    "## 2. Text Summarization Task"
   ]
  },
  {
   "cell_type": "markdown",
   "id": "c74bc3eb-7ed7-4e96-9cbf-6128350111f6",
   "metadata": {},
   "source": [
    "T5 can be used for summarizing longer texts. Here’s an example where you input a long paragraph and the model will generate a summary."
   ]
  },
  {
   "cell_type": "code",
   "execution_count": 28,
   "id": "8fce0b20-6195-4365-951b-5eb2141010a1",
   "metadata": {},
   "outputs": [
    {
     "name": "stderr",
     "output_type": "stream",
     "text": [
      "Device set to use cuda:0\n",
      "Your max_length is set to 200, but your input_length is only 57. Since this is a summarization task, where outputs shorter than the input are typically wanted, you might consider decreasing max_length manually, e.g. summarizer('...', max_length=28)\n"
     ]
    },
    {
     "name": "stdout",
     "output_type": "stream",
     "text": [
      "[{'summary_text': 'the invention of the internet changed the way people communicate, work, and entertain themselves . it enabled new fields such as artificial intelligence, space exploration, and bioengineering .'}]\n"
     ]
    }
   ],
   "source": [
    "# Using T5 model for summarization\n",
    "pipe = pipeline(\"summarization\", model=\"t5-base\")\n",
    "\n",
    "# Test with a long text\n",
    "text = \"\"\"\n",
    "    In the 20th century, there were many significant advancements in technology and science. \n",
    "    The invention of the internet changed the way people communicate, work, and entertain themselves. \n",
    "    It enabled new fields such as artificial intelligence, space exploration, and bioengineering to flourish.\n",
    "\"\"\"\n",
    "result = pipe(text)\n",
    "print(result)\n",
    "\n"
   ]
  },
  {
   "cell_type": "markdown",
   "id": "b68642a6-6555-4235-baf0-fd272c831166",
   "metadata": {},
   "source": [
    "## 3. Text Generation Task"
   ]
  },
  {
   "cell_type": "markdown",
   "id": "c0434011-3236-4406-9c1d-893609affba3",
   "metadata": {},
   "source": [
    "You can also test the model for text generation. Let’s generate a sentence continuation from a prompt."
   ]
  },
  {
   "cell_type": "code",
   "execution_count": 36,
   "id": "49d8533b-da5f-4c58-8af4-a08be85ddbb7",
   "metadata": {},
   "outputs": [
    {
     "name": "stderr",
     "output_type": "stream",
     "text": [
      "Device set to use cuda:0\n"
     ]
    },
    {
     "name": "stdout",
     "output_type": "stream",
     "text": [
      "[{'generated_text': 'a line from a shakespeare poem.. a line from'}]\n"
     ]
    }
   ],
   "source": [
    "# Use Hugging Face pipeline for T5 model in a general task\n",
    "pipe = pipeline(\"text2text-generation\", model=\"t5-base\")\n",
    "\n",
    "# Test with some text\n",
    "result = pipe(\"Give me a line from a shakespeare poem\")\n",
    "print(result)\n",
    "\n"
   ]
  },
  {
   "cell_type": "markdown",
   "id": "88c47705-fe11-4524-a74a-6a4000e8063f",
   "metadata": {},
   "source": [
    "## 4. Question Answering (If the Model Supports It)"
   ]
  },
  {
   "cell_type": "markdown",
   "id": "9c3585ac-6fc4-4331-af70-2b632c45ce49",
   "metadata": {},
   "source": [
    "You can also try a question-answering task. T5 models support this as well. Here's an example of using the model to answer a question based on a context passage."
   ]
  },
  {
   "cell_type": "code",
   "execution_count": 40,
   "id": "ecb4e8bf-2194-4d96-85a5-ee736ed4c1d7",
   "metadata": {},
   "outputs": [
    {
     "name": "stderr",
     "output_type": "stream",
     "text": [
      "Some weights of T5ForQuestionAnswering were not initialized from the model checkpoint at t5-base and are newly initialized: ['qa_outputs.bias', 'qa_outputs.weight']\n",
      "You should probably TRAIN this model on a down-stream task to be able to use it for predictions and inference.\n",
      "Device set to use cuda:0\n"
     ]
    },
    {
     "name": "stdout",
     "output_type": "stream",
     "text": [
      "{'score': 0.0010787179926410317, 'start': 36, 'end': 69, 'answer': 'Google Research and is based on a'}\n"
     ]
    }
   ],
   "source": [
    "# Using T5 model for question answering\n",
    "pipe = pipeline(\"question-answering\", model=\"t5-base\")\n",
    "\n",
    "context = \"\"\"\n",
    "    The T5 model was introduced by Google Research and is based on a transformer architecture. \n",
    "    It is trained to handle a wide variety of NLP tasks in a unified way, using a text-to-text framework.\n",
    "\"\"\"\n",
    "question = \"Who introduced the T5 model?\"\n",
    "result = pipe(question=question, context=context)\n",
    "print(result)\n",
    "\n"
   ]
  },
  {
   "cell_type": "code",
   "execution_count": null,
   "id": "f4958778-39cf-4568-8401-172471290307",
   "metadata": {},
   "outputs": [],
   "source": []
  },
  {
   "cell_type": "code",
   "execution_count": null,
   "id": "83b71c95-fbbf-46b3-92a9-91ce2f50595a",
   "metadata": {},
   "outputs": [
    {
     "data": {
      "application/vnd.jupyter.widget-view+json": {
       "model_id": "330a4c83b17645f4a4c81fab832789bb",
       "version_major": 2,
       "version_minor": 0
      },
      "text/plain": [
       "config.json:   0%|          | 0.00/662 [00:00<?, ?B/s]"
      ]
     },
     "metadata": {},
     "output_type": "display_data"
    },
    {
     "name": "stderr",
     "output_type": "stream",
     "text": [
      "C:\\Users\\MC PostLab\\AppData\\Roaming\\Python\\Python312\\site-packages\\huggingface_hub\\file_download.py:142: UserWarning: `huggingface_hub` cache-system uses symlinks by default to efficiently store duplicated files but your machine does not support them in C:\\Users\\MC PostLab\\.cache\\huggingface\\hub\\models--google--flan-t5-large. Caching files will still work but in a degraded version that might require more space on your disk. This warning can be disabled by setting the `HF_HUB_DISABLE_SYMLINKS_WARNING` environment variable. For more details, see https://huggingface.co/docs/huggingface_hub/how-to-cache#limitations.\n",
      "To support symlinks on Windows, you either need to activate Developer Mode or to run Python as an administrator. In order to activate developer mode, see this article: https://docs.microsoft.com/en-us/windows/apps/get-started/enable-your-device-for-development\n",
      "  warnings.warn(message)\n"
     ]
    },
    {
     "data": {
      "application/vnd.jupyter.widget-view+json": {
       "model_id": "b81bc0c4a33844f6a4e0c60acf80a769",
       "version_major": 2,
       "version_minor": 0
      },
      "text/plain": [
       "model.safetensors:   0%|          | 0.00/3.13G [00:00<?, ?B/s]"
      ]
     },
     "metadata": {},
     "output_type": "display_data"
    }
   ],
   "source": [
    "from transformers import pipeline\n",
    "\n",
    "# Use Hugging Face pipeline for translation using T5 base model\n",
    "pipe = pipeline(\"translation_en_to_fr\", model=\"google/flan-t5-large\")\n",
    "\n",
    "# Test with some text\n",
    "result = pipe(\"Hello, how are you?\")\n",
    "print(result)"
   ]
  },
  {
   "cell_type": "code",
   "execution_count": null,
   "id": "58325300-6212-4f74-853d-706a2ff0a393",
   "metadata": {},
   "outputs": [],
   "source": [
    "# Using T5 model for summarization\n",
    "pipe = pipeline(\"summarization\", model=\"google/flan-t5-large\")\n",
    "\n",
    "# Test with a long text\n",
    "text = \"\"\"\n",
    "    In the 20th century, there were many significant advancements in technology and science. \n",
    "    The invention of the internet changed the way people communicate, work, and entertain themselves. \n",
    "    It enabled new fields such as artificial intelligence, space exploration, and bioengineering to flourish.\n",
    "\"\"\"\n",
    "result = pipe(text)\n",
    "print(result)\n"
   ]
  }
 ],
 "metadata": {
  "kernelspec": {
   "display_name": "Python [conda env:base] *",
   "language": "python",
   "name": "conda-base-py"
  },
  "language_info": {
   "codemirror_mode": {
    "name": "ipython",
    "version": 3
   },
   "file_extension": ".py",
   "mimetype": "text/x-python",
   "name": "python",
   "nbconvert_exporter": "python",
   "pygments_lexer": "ipython3",
   "version": "3.12.7"
  },
  "widgets": {
   "application/vnd.jupyter.widget-state+json": {
    "state": {
     "001470ffd95541eeb6d843c9f519c596": {
      "model_module": "@jupyter-widgets/base",
      "model_module_version": "2.0.0",
      "model_name": "LayoutModel",
      "state": {}
     },
     "002fc9c6572649d39c37514760d105e4": {
      "model_module": "@jupyter-widgets/controls",
      "model_module_version": "2.0.0",
      "model_name": "HTMLModel",
      "state": {
       "layout": "IPY_MODEL_c9e95beb47e84fecbe16f2c9e17e68a1",
       "style": "IPY_MODEL_1e2a227609334ce199c8645fc36e2451",
       "value": "tokenizer.json: 100%"
      }
     },
     "007afa4a6ad342258ccedc017b405cf8": {
      "model_module": "@jupyter-widgets/controls",
      "model_module_version": "2.0.0",
      "model_name": "ProgressStyleModel",
      "state": {
       "description_width": ""
      }
     },
     "008a39dbc8b740abb1e13e560f3ca604": {
      "model_module": "@jupyter-widgets/controls",
      "model_module_version": "2.0.0",
      "model_name": "FloatProgressModel",
      "state": {
       "bar_style": "success",
       "layout": "IPY_MODEL_db375938f7404ac096fb4d1b2c820bce",
       "max": 662,
       "style": "IPY_MODEL_77c67df91d7e437daeec0b2678afa8d7",
       "value": 662
      }
     },
     "00dbec4d64124d41a20ec9f619835733": {
      "model_module": "@jupyter-widgets/base",
      "model_module_version": "2.0.0",
      "model_name": "LayoutModel",
      "state": {}
     },
     "0e66be1474c64035bcc561061cb69781": {
      "model_module": "@jupyter-widgets/base",
      "model_module_version": "2.0.0",
      "model_name": "LayoutModel",
      "state": {}
     },
     "0fcfb72b1acd4af6bf2643729aaa26b3": {
      "model_module": "@jupyter-widgets/controls",
      "model_module_version": "2.0.0",
      "model_name": "HBoxModel",
      "state": {
       "children": [
        "IPY_MODEL_002fc9c6572649d39c37514760d105e4",
        "IPY_MODEL_d20e6bbda12c4e959753dcaf23937e80",
        "IPY_MODEL_7152a04aa2e7496ca40d0de1c7d95b22"
       ],
       "layout": "IPY_MODEL_8cba7d92596341e0bcf1bf19f9adf6fd"
      }
     },
     "10e4e4b1d8b74e4ba8647c5810837838": {
      "model_module": "@jupyter-widgets/base",
      "model_module_version": "2.0.0",
      "model_name": "LayoutModel",
      "state": {}
     },
     "1339cd88b2304d5d8e82487ba0117225": {
      "model_module": "@jupyter-widgets/controls",
      "model_module_version": "2.0.0",
      "model_name": "HTMLModel",
      "state": {
       "layout": "IPY_MODEL_8d92edfc2aa7410c875047a418d811f0",
       "style": "IPY_MODEL_ee2b3ee3f98d4217a7d79cf0a25eda90",
       "value": "config.json: 100%"
      }
     },
     "1485f7c7490549798540ece1537ef69c": {
      "model_module": "@jupyter-widgets/base",
      "model_module_version": "2.0.0",
      "model_name": "LayoutModel",
      "state": {}
     },
     "162b1a4b08b941038ccfa11c08b7f910": {
      "model_module": "@jupyter-widgets/controls",
      "model_module_version": "2.0.0",
      "model_name": "HTMLModel",
      "state": {
       "layout": "IPY_MODEL_8e59697214bd4b98b30e64af52041dbb",
       "style": "IPY_MODEL_d84bcb901a25472a88c101af045404c3",
       "value": "config.json: 100%"
      }
     },
     "16fbe182b19f41c6b71d81ef2bb56e6a": {
      "model_module": "@jupyter-widgets/base",
      "model_module_version": "2.0.0",
      "model_name": "LayoutModel",
      "state": {}
     },
     "19495c1a1a11438bba311fcff544795e": {
      "model_module": "@jupyter-widgets/controls",
      "model_module_version": "2.0.0",
      "model_name": "ProgressStyleModel",
      "state": {
       "description_width": ""
      }
     },
     "1e2a227609334ce199c8645fc36e2451": {
      "model_module": "@jupyter-widgets/controls",
      "model_module_version": "2.0.0",
      "model_name": "HTMLStyleModel",
      "state": {
       "description_width": "",
       "font_size": null,
       "text_color": null
      }
     },
     "20c06abbeebc40fb818e5c6965964232": {
      "model_module": "@jupyter-widgets/base",
      "model_module_version": "2.0.0",
      "model_name": "LayoutModel",
      "state": {}
     },
     "2198688bf1d74ce7ba59bb1a856f9dfc": {
      "model_module": "@jupyter-widgets/controls",
      "model_module_version": "2.0.0",
      "model_name": "FloatProgressModel",
      "state": {
       "bar_style": "success",
       "layout": "IPY_MODEL_d8ef86aa60cc4a48b4116c1f87f87496",
       "max": 791656,
       "style": "IPY_MODEL_94db4896f66845a8a2cb5a1bbf57a8e6",
       "value": 791656
      }
     },
     "2203d630beb04e3fba22f7b52e006507": {
      "model_module": "@jupyter-widgets/controls",
      "model_module_version": "2.0.0",
      "model_name": "FloatProgressModel",
      "state": {
       "bar_style": "success",
       "layout": "IPY_MODEL_a6fe11a9e1e64d73a732162d9f10b72b",
       "max": 891646390,
       "style": "IPY_MODEL_e5819d5d8ea94116af01932134b029ac",
       "value": 891646390
      }
     },
     "23bec4bf79374d03bd8e5e1f2194d3d1": {
      "model_module": "@jupyter-widgets/base",
      "model_module_version": "2.0.0",
      "model_name": "LayoutModel",
      "state": {}
     },
     "23e7c95bb31a4104995e2735eb18c8ec": {
      "model_module": "@jupyter-widgets/base",
      "model_module_version": "2.0.0",
      "model_name": "LayoutModel",
      "state": {}
     },
     "24011f75d3de4356affc1feec8e003c4": {
      "model_module": "@jupyter-widgets/controls",
      "model_module_version": "2.0.0",
      "model_name": "HTMLModel",
      "state": {
       "layout": "IPY_MODEL_75b18c42b17a42978d6454bb7b9b35e3",
       "style": "IPY_MODEL_2c69d4fb549f4e188cb297f0f9050824",
       "value": " 1.16G/3.13G [01:47&lt;02:59, 11.0MB/s]"
      }
     },
     "247e683464d84483acf7345f179329cf": {
      "model_module": "@jupyter-widgets/base",
      "model_module_version": "2.0.0",
      "model_name": "LayoutModel",
      "state": {}
     },
     "284b368b48dc4f9dbe782cff51b0e38a": {
      "model_module": "@jupyter-widgets/controls",
      "model_module_version": "2.0.0",
      "model_name": "HTMLModel",
      "state": {
       "layout": "IPY_MODEL_20c06abbeebc40fb818e5c6965964232",
       "style": "IPY_MODEL_5a47bf065deb4d0aad964028c92a16e7",
       "value": " 52.4M/892M [00:05&lt;01:14, 11.2MB/s]"
      }
     },
     "2c69d4fb549f4e188cb297f0f9050824": {
      "model_module": "@jupyter-widgets/controls",
      "model_module_version": "2.0.0",
      "model_name": "HTMLStyleModel",
      "state": {
       "description_width": "",
       "font_size": null,
       "text_color": null
      }
     },
     "2c8aa5e63d3740198e2d8b9ebc1bd826": {
      "model_module": "@jupyter-widgets/base",
      "model_module_version": "2.0.0",
      "model_name": "LayoutModel",
      "state": {}
     },
     "2dd9b94b4e7b43afb7ec6482c1518abf": {
      "model_module": "@jupyter-widgets/controls",
      "model_module_version": "2.0.0",
      "model_name": "FloatProgressModel",
      "state": {
       "bar_style": "success",
       "layout": "IPY_MODEL_5c2f58bba7244952a2bd7aa5cbca5931",
       "max": 147,
       "style": "IPY_MODEL_a9f9e7f3d10844e3848139ac01f16a25",
       "value": 147
      }
     },
     "2fdd9e98e6c545c4b8ce84e82134e077": {
      "model_module": "@jupyter-widgets/controls",
      "model_module_version": "2.0.0",
      "model_name": "HTMLStyleModel",
      "state": {
       "description_width": "",
       "font_size": null,
       "text_color": null
      }
     },
     "30f25db6451341ca8ae9e94f5a35cab3": {
      "model_module": "@jupyter-widgets/base",
      "model_module_version": "2.0.0",
      "model_name": "LayoutModel",
      "state": {}
     },
     "330a4c83b17645f4a4c81fab832789bb": {
      "model_module": "@jupyter-widgets/controls",
      "model_module_version": "2.0.0",
      "model_name": "HBoxModel",
      "state": {
       "children": [
        "IPY_MODEL_162b1a4b08b941038ccfa11c08b7f910",
        "IPY_MODEL_008a39dbc8b740abb1e13e560f3ca604",
        "IPY_MODEL_68e9d92932bb4156a807927839099d3e"
       ],
       "layout": "IPY_MODEL_10e4e4b1d8b74e4ba8647c5810837838"
      }
     },
     "33d1fdd66d2743ce996152aee47257a9": {
      "model_module": "@jupyter-widgets/controls",
      "model_module_version": "2.0.0",
      "model_name": "HBoxModel",
      "state": {
       "children": [
        "IPY_MODEL_706c2d137aef4567a0b6d2a5c0019d6b",
        "IPY_MODEL_a0d5437e73a64744bf9a984e4354607d",
        "IPY_MODEL_f9da1ae3c1974069902bcd64399a3f32"
       ],
       "layout": "IPY_MODEL_247e683464d84483acf7345f179329cf"
      }
     },
     "359dd7e60fbc49e3851f396b1f049939": {
      "model_module": "@jupyter-widgets/base",
      "model_module_version": "2.0.0",
      "model_name": "LayoutModel",
      "state": {}
     },
     "36c18076ca304d25ac66142d58dc535a": {
      "model_module": "@jupyter-widgets/base",
      "model_module_version": "2.0.0",
      "model_name": "LayoutModel",
      "state": {}
     },
     "385892eac1a54422afe10319f3a3b954": {
      "model_module": "@jupyter-widgets/controls",
      "model_module_version": "2.0.0",
      "model_name": "HTMLStyleModel",
      "state": {
       "description_width": "",
       "font_size": null,
       "text_color": null
      }
     },
     "391b8a01d4834acabdc6c787e3a73b17": {
      "model_module": "@jupyter-widgets/controls",
      "model_module_version": "2.0.0",
      "model_name": "FloatProgressModel",
      "state": {
       "bar_style": "success",
       "layout": "IPY_MODEL_1485f7c7490549798540ece1537ef69c",
       "max": 1208,
       "style": "IPY_MODEL_739856fc409c411fa9c57be39e4b0a5e",
       "value": 1208
      }
     },
     "3c17734b1e6042da817dbff5a16d392a": {
      "model_module": "@jupyter-widgets/base",
      "model_module_version": "2.0.0",
      "model_name": "LayoutModel",
      "state": {}
     },
     "3d9b821278494faeaac8aaa8db8bf5ac": {
      "model_module": "@jupyter-widgets/controls",
      "model_module_version": "2.0.0",
      "model_name": "HTMLModel",
      "state": {
       "layout": "IPY_MODEL_23e7c95bb31a4104995e2735eb18c8ec",
       "style": "IPY_MODEL_385892eac1a54422afe10319f3a3b954",
       "value": " 1.21k/1.21k [00:00&lt;00:00, 173kB/s]"
      }
     },
     "403f1714ee6d4a2e80adab5a2965cc23": {
      "model_module": "@jupyter-widgets/controls",
      "model_module_version": "2.0.0",
      "model_name": "HTMLModel",
      "state": {
       "layout": "IPY_MODEL_48d115d2510640708628acf97845a8be",
       "style": "IPY_MODEL_56f64f09c6484f5a948ac66560d3fe33",
       "value": "model.safetensors:   6%"
      }
     },
     "45f8ca653c3241128998c607a3a3e759": {
      "model_module": "@jupyter-widgets/controls",
      "model_module_version": "2.0.0",
      "model_name": "ProgressStyleModel",
      "state": {
       "description_width": ""
      }
     },
     "48d115d2510640708628acf97845a8be": {
      "model_module": "@jupyter-widgets/base",
      "model_module_version": "2.0.0",
      "model_name": "LayoutModel",
      "state": {}
     },
     "49b2589c7c45427388d44e38b27e856d": {
      "model_module": "@jupyter-widgets/controls",
      "model_module_version": "2.0.0",
      "model_name": "HTMLStyleModel",
      "state": {
       "description_width": "",
       "font_size": null,
       "text_color": null
      }
     },
     "49f9124c31ae44e9b57cdeba1ede46f2": {
      "model_module": "@jupyter-widgets/base",
      "model_module_version": "2.0.0",
      "model_name": "LayoutModel",
      "state": {}
     },
     "4fff75e2c5284adc92c3bf08a476f253": {
      "model_module": "@jupyter-widgets/controls",
      "model_module_version": "2.0.0",
      "model_name": "HTMLStyleModel",
      "state": {
       "description_width": "",
       "font_size": null,
       "text_color": null
      }
     },
     "51065c005fd34a1fb20a6cf7e6aa2eb8": {
      "model_module": "@jupyter-widgets/controls",
      "model_module_version": "2.0.0",
      "model_name": "HTMLModel",
      "state": {
       "layout": "IPY_MODEL_6f6ef3055603417d87c1f1bbc6d7e4a0",
       "style": "IPY_MODEL_ea5051ecddaa4bc3a374e22ed72f4265",
       "value": "generation_config.json: 100%"
      }
     },
     "56f64f09c6484f5a948ac66560d3fe33": {
      "model_module": "@jupyter-widgets/controls",
      "model_module_version": "2.0.0",
      "model_name": "HTMLStyleModel",
      "state": {
       "description_width": "",
       "font_size": null,
       "text_color": null
      }
     },
     "5a47bf065deb4d0aad964028c92a16e7": {
      "model_module": "@jupyter-widgets/controls",
      "model_module_version": "2.0.0",
      "model_name": "HTMLStyleModel",
      "state": {
       "description_width": "",
       "font_size": null,
       "text_color": null
      }
     },
     "5c2f58bba7244952a2bd7aa5cbca5931": {
      "model_module": "@jupyter-widgets/base",
      "model_module_version": "2.0.0",
      "model_name": "LayoutModel",
      "state": {}
     },
     "5d6868b4037e4020bc503331f499cfda": {
      "model_module": "@jupyter-widgets/controls",
      "model_module_version": "2.0.0",
      "model_name": "HTMLStyleModel",
      "state": {
       "description_width": "",
       "font_size": null,
       "text_color": null
      }
     },
     "5d6d5f1ece2d48ee81dcbc4881f1df9b": {
      "model_module": "@jupyter-widgets/controls",
      "model_module_version": "2.0.0",
      "model_name": "HBoxModel",
      "state": {
       "children": [
        "IPY_MODEL_403f1714ee6d4a2e80adab5a2965cc23",
        "IPY_MODEL_c8e321fc62c7463a8eee335c98293351",
        "IPY_MODEL_284b368b48dc4f9dbe782cff51b0e38a"
       ],
       "layout": "IPY_MODEL_697c798def4043c9be0eaa59c37b72f1"
      }
     },
     "5dd84621013343b581c72e3f444573e2": {
      "model_module": "@jupyter-widgets/controls",
      "model_module_version": "2.0.0",
      "model_name": "HTMLStyleModel",
      "state": {
       "description_width": "",
       "font_size": null,
       "text_color": null
      }
     },
     "5e3254f1c6fe4d82b510171561878279": {
      "model_module": "@jupyter-widgets/controls",
      "model_module_version": "2.0.0",
      "model_name": "HTMLStyleModel",
      "state": {
       "description_width": "",
       "font_size": null,
       "text_color": null
      }
     },
     "602b4e4267d94357b3c9243ed7d61e06": {
      "model_module": "@jupyter-widgets/controls",
      "model_module_version": "2.0.0",
      "model_name": "FloatProgressModel",
      "state": {
       "bar_style": "success",
       "layout": "IPY_MODEL_3c17734b1e6042da817dbff5a16d392a",
       "max": 891646390,
       "style": "IPY_MODEL_fc1e6aec31f9466cbb51a312a0811e84",
       "value": 891646390
      }
     },
     "616f1298925846e59a3a6c76cac66311": {
      "model_module": "@jupyter-widgets/controls",
      "model_module_version": "2.0.0",
      "model_name": "HTMLStyleModel",
      "state": {
       "description_width": "",
       "font_size": null,
       "text_color": null
      }
     },
     "66f88792034342729a57c47a9c27ea2d": {
      "model_module": "@jupyter-widgets/controls",
      "model_module_version": "2.0.0",
      "model_name": "HTMLModel",
      "state": {
       "layout": "IPY_MODEL_b468f28ac4ed44f3a80b48823d840382",
       "style": "IPY_MODEL_2fdd9e98e6c545c4b8ce84e82134e077",
       "value": " 792k/792k [00:00&lt;00:00, 12.0MB/s]"
      }
     },
     "672119c716f942de8b97c55393088384": {
      "model_module": "@jupyter-widgets/base",
      "model_module_version": "2.0.0",
      "model_name": "LayoutModel",
      "state": {}
     },
     "68e9d92932bb4156a807927839099d3e": {
      "model_module": "@jupyter-widgets/controls",
      "model_module_version": "2.0.0",
      "model_name": "HTMLModel",
      "state": {
       "layout": "IPY_MODEL_16fbe182b19f41c6b71d81ef2bb56e6a",
       "style": "IPY_MODEL_b5ef838409aa4fc19e67ef06b589c896",
       "value": " 662/662 [00:00&lt;00:00, 188kB/s]"
      }
     },
     "697c798def4043c9be0eaa59c37b72f1": {
      "model_module": "@jupyter-widgets/base",
      "model_module_version": "2.0.0",
      "model_name": "LayoutModel",
      "state": {}
     },
     "6bc83ea2221341e0bc679094d60f2368": {
      "model_module": "@jupyter-widgets/controls",
      "model_module_version": "2.0.0",
      "model_name": "FloatProgressModel",
      "state": {
       "bar_style": "success",
       "layout": "IPY_MODEL_672119c716f942de8b97c55393088384",
       "max": 147,
       "style": "IPY_MODEL_19495c1a1a11438bba311fcff544795e",
       "value": 147
      }
     },
     "6dc272b8ee6741f8befb46cdbabb74ab": {
      "model_module": "@jupyter-widgets/controls",
      "model_module_version": "2.0.0",
      "model_name": "HTMLModel",
      "state": {
       "layout": "IPY_MODEL_36c18076ca304d25ac66142d58dc535a",
       "style": "IPY_MODEL_7c081eab6b14400e93a4cba83836b262",
       "value": " 1.21k/1.21k [00:00&lt;00:00, 297kB/s]"
      }
     },
     "6ee858d5f40d4cb7a06fc6373d57cec4": {
      "model_module": "@jupyter-widgets/base",
      "model_module_version": "2.0.0",
      "model_name": "LayoutModel",
      "state": {}
     },
     "6f6ef3055603417d87c1f1bbc6d7e4a0": {
      "model_module": "@jupyter-widgets/base",
      "model_module_version": "2.0.0",
      "model_name": "LayoutModel",
      "state": {}
     },
     "706c2d137aef4567a0b6d2a5c0019d6b": {
      "model_module": "@jupyter-widgets/controls",
      "model_module_version": "2.0.0",
      "model_name": "HTMLModel",
      "state": {
       "layout": "IPY_MODEL_adfb9305e54d4c579ef510d5c09bbc78",
       "style": "IPY_MODEL_5dd84621013343b581c72e3f444573e2",
       "value": "tokenizer.json: 100%"
      }
     },
     "7152a04aa2e7496ca40d0de1c7d95b22": {
      "model_module": "@jupyter-widgets/controls",
      "model_module_version": "2.0.0",
      "model_name": "HTMLModel",
      "state": {
       "layout": "IPY_MODEL_895f56d124384e7f91485ca56c0c0362",
       "style": "IPY_MODEL_d262979b153a478a9cc66b2e7b4143d2",
       "value": " 1.39M/1.39M [00:00&lt;00:00, 7.96MB/s]"
      }
     },
     "739856fc409c411fa9c57be39e4b0a5e": {
      "model_module": "@jupyter-widgets/controls",
      "model_module_version": "2.0.0",
      "model_name": "ProgressStyleModel",
      "state": {
       "description_width": ""
      }
     },
     "75b18c42b17a42978d6454bb7b9b35e3": {
      "model_module": "@jupyter-widgets/base",
      "model_module_version": "2.0.0",
      "model_name": "LayoutModel",
      "state": {}
     },
     "77c67df91d7e437daeec0b2678afa8d7": {
      "model_module": "@jupyter-widgets/controls",
      "model_module_version": "2.0.0",
      "model_name": "ProgressStyleModel",
      "state": {
       "description_width": ""
      }
     },
     "78be03b9e16c49f2b69ca3d07d281d51": {
      "model_module": "@jupyter-widgets/controls",
      "model_module_version": "2.0.0",
      "model_name": "HTMLStyleModel",
      "state": {
       "description_width": "",
       "font_size": null,
       "text_color": null
      }
     },
     "79699aa9952942fcb9df600b0790c7fd": {
      "model_module": "@jupyter-widgets/base",
      "model_module_version": "2.0.0",
      "model_name": "LayoutModel",
      "state": {}
     },
     "7c081eab6b14400e93a4cba83836b262": {
      "model_module": "@jupyter-widgets/controls",
      "model_module_version": "2.0.0",
      "model_name": "HTMLStyleModel",
      "state": {
       "description_width": "",
       "font_size": null,
       "text_color": null
      }
     },
     "81ae3b15c8634bc2b4ca3bb7941987bd": {
      "model_module": "@jupyter-widgets/controls",
      "model_module_version": "2.0.0",
      "model_name": "HTMLStyleModel",
      "state": {
       "description_width": "",
       "font_size": null,
       "text_color": null
      }
     },
     "8857fa707edf4701beae2b6ff04afb67": {
      "model_module": "@jupyter-widgets/controls",
      "model_module_version": "2.0.0",
      "model_name": "HTMLModel",
      "state": {
       "layout": "IPY_MODEL_92a0cb7b52d044ffa5dbbdc5c923f0f0",
       "style": "IPY_MODEL_49b2589c7c45427388d44e38b27e856d",
       "value": " 792k/792k [00:00&lt;00:00, 6.77MB/s]"
      }
     },
     "895f56d124384e7f91485ca56c0c0362": {
      "model_module": "@jupyter-widgets/base",
      "model_module_version": "2.0.0",
      "model_name": "LayoutModel",
      "state": {}
     },
     "8cba7d92596341e0bcf1bf19f9adf6fd": {
      "model_module": "@jupyter-widgets/base",
      "model_module_version": "2.0.0",
      "model_name": "LayoutModel",
      "state": {}
     },
     "8d92edfc2aa7410c875047a418d811f0": {
      "model_module": "@jupyter-widgets/base",
      "model_module_version": "2.0.0",
      "model_name": "LayoutModel",
      "state": {}
     },
     "8e59697214bd4b98b30e64af52041dbb": {
      "model_module": "@jupyter-widgets/base",
      "model_module_version": "2.0.0",
      "model_name": "LayoutModel",
      "state": {}
     },
     "92a0cb7b52d044ffa5dbbdc5c923f0f0": {
      "model_module": "@jupyter-widgets/base",
      "model_module_version": "2.0.0",
      "model_name": "LayoutModel",
      "state": {}
     },
     "94db4896f66845a8a2cb5a1bbf57a8e6": {
      "model_module": "@jupyter-widgets/controls",
      "model_module_version": "2.0.0",
      "model_name": "ProgressStyleModel",
      "state": {
       "description_width": ""
      }
     },
     "9555ec48777f4f2e8c290d800a2bb892": {
      "model_module": "@jupyter-widgets/controls",
      "model_module_version": "2.0.0",
      "model_name": "HTMLModel",
      "state": {
       "layout": "IPY_MODEL_fff516566fc749cc83bf1254e35c9ab1",
       "style": "IPY_MODEL_eab1d648193045d5b29c572013ce1ce1",
       "value": " 147/147 [00:00&lt;00:00, 35.9kB/s]"
      }
     },
     "95e0bf18ac424173a2a53a3007eaf9d0": {
      "model_module": "@jupyter-widgets/base",
      "model_module_version": "2.0.0",
      "model_name": "LayoutModel",
      "state": {}
     },
     "99e9cabb01a14bfba9fe6f528c2123d9": {
      "model_module": "@jupyter-widgets/controls",
      "model_module_version": "2.0.0",
      "model_name": "HBoxModel",
      "state": {
       "children": [
        "IPY_MODEL_ab5fc72b3bc94d94947ee72efb564184",
        "IPY_MODEL_2198688bf1d74ce7ba59bb1a856f9dfc",
        "IPY_MODEL_66f88792034342729a57c47a9c27ea2d"
       ],
       "layout": "IPY_MODEL_c61a2393517941009af513d42f7ab1e7"
      }
     },
     "9af3a5a156c94734805f8009fd5d7ecb": {
      "model_module": "@jupyter-widgets/controls",
      "model_module_version": "2.0.0",
      "model_name": "HTMLModel",
      "state": {
       "layout": "IPY_MODEL_c479cf675c9b405294b915f6b34f39e7",
       "style": "IPY_MODEL_616f1298925846e59a3a6c76cac66311",
       "value": "generation_config.json: 100%"
      }
     },
     "9b75e4a2ed2044ee943fb6cf8e67462a": {
      "model_module": "@jupyter-widgets/base",
      "model_module_version": "2.0.0",
      "model_name": "LayoutModel",
      "state": {}
     },
     "9bc14ddd6998451681f3c298a5ab440a": {
      "model_module": "@jupyter-widgets/controls",
      "model_module_version": "2.0.0",
      "model_name": "HBoxModel",
      "state": {
       "children": [
        "IPY_MODEL_a57dddbc8f364821994fca6c97b25622",
        "IPY_MODEL_ff91ccf0983848cdaccb8a8bdb67fed2",
        "IPY_MODEL_3d9b821278494faeaac8aaa8db8bf5ac"
       ],
       "layout": "IPY_MODEL_49f9124c31ae44e9b57cdeba1ede46f2"
      }
     },
     "a0d5437e73a64744bf9a984e4354607d": {
      "model_module": "@jupyter-widgets/controls",
      "model_module_version": "2.0.0",
      "model_name": "FloatProgressModel",
      "state": {
       "bar_style": "success",
       "layout": "IPY_MODEL_6ee858d5f40d4cb7a06fc6373d57cec4",
       "max": 1389353,
       "style": "IPY_MODEL_c063f99838874a888d96711e271361c5",
       "value": 1389353
      }
     },
     "a45d16362cae41c4a936205130b6d860": {
      "model_module": "@jupyter-widgets/controls",
      "model_module_version": "2.0.0",
      "model_name": "HBoxModel",
      "state": {
       "children": [
        "IPY_MODEL_d6bbfc3716514c7d8378ff27914bb172",
        "IPY_MODEL_2203d630beb04e3fba22f7b52e006507",
        "IPY_MODEL_e73c999879ee495fb652c0c12efcea42"
       ],
       "layout": "IPY_MODEL_cb777f616c704c799167be4ebc7171d5"
      }
     },
     "a57dddbc8f364821994fca6c97b25622": {
      "model_module": "@jupyter-widgets/controls",
      "model_module_version": "2.0.0",
      "model_name": "HTMLModel",
      "state": {
       "layout": "IPY_MODEL_e16682935af04258bc1ec81b0e6293b6",
       "style": "IPY_MODEL_d6cfda69752243a9b1d3438e18ee8ee4",
       "value": "config.json: 100%"
      }
     },
     "a66aa9a9cef14ade81064e8c18f4a446": {
      "model_module": "@jupyter-widgets/base",
      "model_module_version": "2.0.0",
      "model_name": "LayoutModel",
      "state": {}
     },
     "a6fe11a9e1e64d73a732162d9f10b72b": {
      "model_module": "@jupyter-widgets/base",
      "model_module_version": "2.0.0",
      "model_name": "LayoutModel",
      "state": {}
     },
     "a9f9e7f3d10844e3848139ac01f16a25": {
      "model_module": "@jupyter-widgets/controls",
      "model_module_version": "2.0.0",
      "model_name": "ProgressStyleModel",
      "state": {
       "description_width": ""
      }
     },
     "ab5fc72b3bc94d94947ee72efb564184": {
      "model_module": "@jupyter-widgets/controls",
      "model_module_version": "2.0.0",
      "model_name": "HTMLModel",
      "state": {
       "layout": "IPY_MODEL_001470ffd95541eeb6d843c9f519c596",
       "style": "IPY_MODEL_d768969266b846c797bef82a26a71260",
       "value": "spiece.model: 100%"
      }
     },
     "ac3ca15578134c7ea86174e2518bc188": {
      "model_module": "@jupyter-widgets/controls",
      "model_module_version": "2.0.0",
      "model_name": "HTMLStyleModel",
      "state": {
       "description_width": "",
       "font_size": null,
       "text_color": null
      }
     },
     "accdd88097f441e09235e92a27d61538": {
      "model_module": "@jupyter-widgets/controls",
      "model_module_version": "2.0.0",
      "model_name": "HBoxModel",
      "state": {
       "children": [
        "IPY_MODEL_1339cd88b2304d5d8e82487ba0117225",
        "IPY_MODEL_391b8a01d4834acabdc6c787e3a73b17",
        "IPY_MODEL_6dc272b8ee6741f8befb46cdbabb74ab"
       ],
       "layout": "IPY_MODEL_79699aa9952942fcb9df600b0790c7fd"
      }
     },
     "adfb9305e54d4c579ef510d5c09bbc78": {
      "model_module": "@jupyter-widgets/base",
      "model_module_version": "2.0.0",
      "model_name": "LayoutModel",
      "state": {}
     },
     "afd310e5cd78438eb28bcf92ff0c724b": {
      "model_module": "@jupyter-widgets/base",
      "model_module_version": "2.0.0",
      "model_name": "LayoutModel",
      "state": {}
     },
     "b0eeecf68a2a43a79134b05f8afaea15": {
      "model_module": "@jupyter-widgets/controls",
      "model_module_version": "2.0.0",
      "model_name": "HBoxModel",
      "state": {
       "children": [
        "IPY_MODEL_f0c96ecc097e4937a2d797952b394bd7",
        "IPY_MODEL_febbb26d26ae4cc0b6fa464742a2f7d3",
        "IPY_MODEL_8857fa707edf4701beae2b6ff04afb67"
       ],
       "layout": "IPY_MODEL_9b75e4a2ed2044ee943fb6cf8e67462a"
      }
     },
     "b468f28ac4ed44f3a80b48823d840382": {
      "model_module": "@jupyter-widgets/base",
      "model_module_version": "2.0.0",
      "model_name": "LayoutModel",
      "state": {}
     },
     "b5ef838409aa4fc19e67ef06b589c896": {
      "model_module": "@jupyter-widgets/controls",
      "model_module_version": "2.0.0",
      "model_name": "HTMLStyleModel",
      "state": {
       "description_width": "",
       "font_size": null,
       "text_color": null
      }
     },
     "b81bc0c4a33844f6a4e0c60acf80a769": {
      "model_module": "@jupyter-widgets/controls",
      "model_module_version": "2.0.0",
      "model_name": "HBoxModel",
      "state": {
       "children": [
        "IPY_MODEL_d732b07a955d4f4a8a0918bdcb8fecd2",
        "IPY_MODEL_de3adec8b0b2445daf6ce3df7e16ff87",
        "IPY_MODEL_24011f75d3de4356affc1feec8e003c4"
       ],
       "layout": "IPY_MODEL_2c8aa5e63d3740198e2d8b9ebc1bd826"
      }
     },
     "bbee724a2cb8432fb962e9082d454cb2": {
      "model_module": "@jupyter-widgets/controls",
      "model_module_version": "2.0.0",
      "model_name": "ProgressStyleModel",
      "state": {
       "description_width": ""
      }
     },
     "c063f99838874a888d96711e271361c5": {
      "model_module": "@jupyter-widgets/controls",
      "model_module_version": "2.0.0",
      "model_name": "ProgressStyleModel",
      "state": {
       "description_width": ""
      }
     },
     "c479cf675c9b405294b915f6b34f39e7": {
      "model_module": "@jupyter-widgets/base",
      "model_module_version": "2.0.0",
      "model_name": "LayoutModel",
      "state": {}
     },
     "c47f2169bb5c4d61ba15f82d22b946e3": {
      "model_module": "@jupyter-widgets/base",
      "model_module_version": "2.0.0",
      "model_name": "LayoutModel",
      "state": {}
     },
     "c61a2393517941009af513d42f7ab1e7": {
      "model_module": "@jupyter-widgets/base",
      "model_module_version": "2.0.0",
      "model_name": "LayoutModel",
      "state": {}
     },
     "c8e321fc62c7463a8eee335c98293351": {
      "model_module": "@jupyter-widgets/controls",
      "model_module_version": "2.0.0",
      "model_name": "FloatProgressModel",
      "state": {
       "bar_style": "danger",
       "layout": "IPY_MODEL_f51f07b084c949e5ab208c3ff121df42",
       "max": 891646390,
       "style": "IPY_MODEL_45f8ca653c3241128998c607a3a3e759",
       "value": 52428800
      }
     },
     "c9e95beb47e84fecbe16f2c9e17e68a1": {
      "model_module": "@jupyter-widgets/base",
      "model_module_version": "2.0.0",
      "model_name": "LayoutModel",
      "state": {}
     },
     "ca2a6d90498d4795ab5f99ec01bb0d16": {
      "model_module": "@jupyter-widgets/controls",
      "model_module_version": "2.0.0",
      "model_name": "HBoxModel",
      "state": {
       "children": [
        "IPY_MODEL_51065c005fd34a1fb20a6cf7e6aa2eb8",
        "IPY_MODEL_6bc83ea2221341e0bc679094d60f2368",
        "IPY_MODEL_9555ec48777f4f2e8c290d800a2bb892"
       ],
       "layout": "IPY_MODEL_30f25db6451341ca8ae9e94f5a35cab3"
      }
     },
     "cb777f616c704c799167be4ebc7171d5": {
      "model_module": "@jupyter-widgets/base",
      "model_module_version": "2.0.0",
      "model_name": "LayoutModel",
      "state": {}
     },
     "cbc7a41f115745b4a17db03be3fa28e7": {
      "model_module": "@jupyter-widgets/controls",
      "model_module_version": "2.0.0",
      "model_name": "HTMLModel",
      "state": {
       "layout": "IPY_MODEL_f9998670be294d27a8e572d08427eccc",
       "style": "IPY_MODEL_dbcf0893ac9947ccbfd1f57deff1f2d0",
       "value": "model.safetensors: 100%"
      }
     },
     "ce211a2d77c147e080605ca5a5d72bab": {
      "model_module": "@jupyter-widgets/base",
      "model_module_version": "2.0.0",
      "model_name": "LayoutModel",
      "state": {}
     },
     "d082f9f46aec4f02b3b599ecb91748ed": {
      "model_module": "@jupyter-widgets/base",
      "model_module_version": "2.0.0",
      "model_name": "LayoutModel",
      "state": {}
     },
     "d20e6bbda12c4e959753dcaf23937e80": {
      "model_module": "@jupyter-widgets/controls",
      "model_module_version": "2.0.0",
      "model_name": "FloatProgressModel",
      "state": {
       "bar_style": "success",
       "layout": "IPY_MODEL_c47f2169bb5c4d61ba15f82d22b946e3",
       "max": 1389353,
       "style": "IPY_MODEL_d978af6f96da41bfa62595bb3b459a34",
       "value": 1389353
      }
     },
     "d262979b153a478a9cc66b2e7b4143d2": {
      "model_module": "@jupyter-widgets/controls",
      "model_module_version": "2.0.0",
      "model_name": "HTMLStyleModel",
      "state": {
       "description_width": "",
       "font_size": null,
       "text_color": null
      }
     },
     "d6bbfc3716514c7d8378ff27914bb172": {
      "model_module": "@jupyter-widgets/controls",
      "model_module_version": "2.0.0",
      "model_name": "HTMLModel",
      "state": {
       "layout": "IPY_MODEL_fa37951c9e464efd8ea174cd9e9b4687",
       "style": "IPY_MODEL_eaf6144ae1364b66910261043ff1926a",
       "value": "model.safetensors: 100%"
      }
     },
     "d6cfda69752243a9b1d3438e18ee8ee4": {
      "model_module": "@jupyter-widgets/controls",
      "model_module_version": "2.0.0",
      "model_name": "HTMLStyleModel",
      "state": {
       "description_width": "",
       "font_size": null,
       "text_color": null
      }
     },
     "d732b07a955d4f4a8a0918bdcb8fecd2": {
      "model_module": "@jupyter-widgets/controls",
      "model_module_version": "2.0.0",
      "model_name": "HTMLModel",
      "state": {
       "layout": "IPY_MODEL_d082f9f46aec4f02b3b599ecb91748ed",
       "style": "IPY_MODEL_81ae3b15c8634bc2b4ca3bb7941987bd",
       "value": "model.safetensors:  37%"
      }
     },
     "d768969266b846c797bef82a26a71260": {
      "model_module": "@jupyter-widgets/controls",
      "model_module_version": "2.0.0",
      "model_name": "HTMLStyleModel",
      "state": {
       "description_width": "",
       "font_size": null,
       "text_color": null
      }
     },
     "d84bcb901a25472a88c101af045404c3": {
      "model_module": "@jupyter-widgets/controls",
      "model_module_version": "2.0.0",
      "model_name": "HTMLStyleModel",
      "state": {
       "description_width": "",
       "font_size": null,
       "text_color": null
      }
     },
     "d8ef86aa60cc4a48b4116c1f87f87496": {
      "model_module": "@jupyter-widgets/base",
      "model_module_version": "2.0.0",
      "model_name": "LayoutModel",
      "state": {}
     },
     "d978af6f96da41bfa62595bb3b459a34": {
      "model_module": "@jupyter-widgets/controls",
      "model_module_version": "2.0.0",
      "model_name": "ProgressStyleModel",
      "state": {
       "description_width": ""
      }
     },
     "db375938f7404ac096fb4d1b2c820bce": {
      "model_module": "@jupyter-widgets/base",
      "model_module_version": "2.0.0",
      "model_name": "LayoutModel",
      "state": {}
     },
     "dbcf0893ac9947ccbfd1f57deff1f2d0": {
      "model_module": "@jupyter-widgets/controls",
      "model_module_version": "2.0.0",
      "model_name": "HTMLStyleModel",
      "state": {
       "description_width": "",
       "font_size": null,
       "text_color": null
      }
     },
     "de3adec8b0b2445daf6ce3df7e16ff87": {
      "model_module": "@jupyter-widgets/controls",
      "model_module_version": "2.0.0",
      "model_name": "FloatProgressModel",
      "state": {
       "layout": "IPY_MODEL_23bec4bf79374d03bd8e5e1f2194d3d1",
       "max": 3132668804,
       "style": "IPY_MODEL_007afa4a6ad342258ccedc017b405cf8",
       "value": 1163919360
      }
     },
     "e0bf9f45e517474fa8f265eeeb48ea37": {
      "model_module": "@jupyter-widgets/controls",
      "model_module_version": "2.0.0",
      "model_name": "HTMLModel",
      "state": {
       "layout": "IPY_MODEL_fdc274438b344178b920f8a860492baf",
       "style": "IPY_MODEL_78be03b9e16c49f2b69ca3d07d281d51",
       "value": " 892M/892M [03:31&lt;00:00, 3.78MB/s]"
      }
     },
     "e16682935af04258bc1ec81b0e6293b6": {
      "model_module": "@jupyter-widgets/base",
      "model_module_version": "2.0.0",
      "model_name": "LayoutModel",
      "state": {}
     },
     "e5819d5d8ea94116af01932134b029ac": {
      "model_module": "@jupyter-widgets/controls",
      "model_module_version": "2.0.0",
      "model_name": "ProgressStyleModel",
      "state": {
       "description_width": ""
      }
     },
     "e73c999879ee495fb652c0c12efcea42": {
      "model_module": "@jupyter-widgets/controls",
      "model_module_version": "2.0.0",
      "model_name": "HTMLModel",
      "state": {
       "layout": "IPY_MODEL_ce211a2d77c147e080605ca5a5d72bab",
       "style": "IPY_MODEL_ac3ca15578134c7ea86174e2518bc188",
       "value": " 892M/892M [01:16&lt;00:00, 10.9MB/s]"
      }
     },
     "ea5051ecddaa4bc3a374e22ed72f4265": {
      "model_module": "@jupyter-widgets/controls",
      "model_module_version": "2.0.0",
      "model_name": "HTMLStyleModel",
      "state": {
       "description_width": "",
       "font_size": null,
       "text_color": null
      }
     },
     "eab1d648193045d5b29c572013ce1ce1": {
      "model_module": "@jupyter-widgets/controls",
      "model_module_version": "2.0.0",
      "model_name": "HTMLStyleModel",
      "state": {
       "description_width": "",
       "font_size": null,
       "text_color": null
      }
     },
     "eaf6144ae1364b66910261043ff1926a": {
      "model_module": "@jupyter-widgets/controls",
      "model_module_version": "2.0.0",
      "model_name": "HTMLStyleModel",
      "state": {
       "description_width": "",
       "font_size": null,
       "text_color": null
      }
     },
     "eb7040cab52e4a8b9fd979d4693dcdb1": {
      "model_module": "@jupyter-widgets/controls",
      "model_module_version": "2.0.0",
      "model_name": "ProgressStyleModel",
      "state": {
       "description_width": ""
      }
     },
     "ebe6e5a75b0b43448b9ca08b97111c3b": {
      "model_module": "@jupyter-widgets/controls",
      "model_module_version": "2.0.0",
      "model_name": "HBoxModel",
      "state": {
       "children": [
        "IPY_MODEL_9af3a5a156c94734805f8009fd5d7ecb",
        "IPY_MODEL_2dd9b94b4e7b43afb7ec6482c1518abf",
        "IPY_MODEL_f1b52cafe62642e3acd942e69d47209c"
       ],
       "layout": "IPY_MODEL_0e66be1474c64035bcc561061cb69781"
      }
     },
     "ee2b3ee3f98d4217a7d79cf0a25eda90": {
      "model_module": "@jupyter-widgets/controls",
      "model_module_version": "2.0.0",
      "model_name": "HTMLStyleModel",
      "state": {
       "description_width": "",
       "font_size": null,
       "text_color": null
      }
     },
     "f0c96ecc097e4937a2d797952b394bd7": {
      "model_module": "@jupyter-widgets/controls",
      "model_module_version": "2.0.0",
      "model_name": "HTMLModel",
      "state": {
       "layout": "IPY_MODEL_fbc3ac0756a344a8a2f16745437ea5d8",
       "style": "IPY_MODEL_5e3254f1c6fe4d82b510171561878279",
       "value": "spiece.model: 100%"
      }
     },
     "f171ebc0f6744bf49e98e1bee61732d2": {
      "model_module": "@jupyter-widgets/controls",
      "model_module_version": "2.0.0",
      "model_name": "HBoxModel",
      "state": {
       "children": [
        "IPY_MODEL_cbc7a41f115745b4a17db03be3fa28e7",
        "IPY_MODEL_602b4e4267d94357b3c9243ed7d61e06",
        "IPY_MODEL_e0bf9f45e517474fa8f265eeeb48ea37"
       ],
       "layout": "IPY_MODEL_a66aa9a9cef14ade81064e8c18f4a446"
      }
     },
     "f1b52cafe62642e3acd942e69d47209c": {
      "model_module": "@jupyter-widgets/controls",
      "model_module_version": "2.0.0",
      "model_name": "HTMLModel",
      "state": {
       "layout": "IPY_MODEL_00dbec4d64124d41a20ec9f619835733",
       "style": "IPY_MODEL_5d6868b4037e4020bc503331f499cfda",
       "value": " 147/147 [00:00&lt;00:00, 36.1kB/s]"
      }
     },
     "f51f07b084c949e5ab208c3ff121df42": {
      "model_module": "@jupyter-widgets/base",
      "model_module_version": "2.0.0",
      "model_name": "LayoutModel",
      "state": {}
     },
     "f9998670be294d27a8e572d08427eccc": {
      "model_module": "@jupyter-widgets/base",
      "model_module_version": "2.0.0",
      "model_name": "LayoutModel",
      "state": {}
     },
     "f9da1ae3c1974069902bcd64399a3f32": {
      "model_module": "@jupyter-widgets/controls",
      "model_module_version": "2.0.0",
      "model_name": "HTMLModel",
      "state": {
       "layout": "IPY_MODEL_359dd7e60fbc49e3851f396b1f049939",
       "style": "IPY_MODEL_4fff75e2c5284adc92c3bf08a476f253",
       "value": " 1.39M/1.39M [00:00&lt;00:00, 11.8MB/s]"
      }
     },
     "fa37951c9e464efd8ea174cd9e9b4687": {
      "model_module": "@jupyter-widgets/base",
      "model_module_version": "2.0.0",
      "model_name": "LayoutModel",
      "state": {}
     },
     "fbc3ac0756a344a8a2f16745437ea5d8": {
      "model_module": "@jupyter-widgets/base",
      "model_module_version": "2.0.0",
      "model_name": "LayoutModel",
      "state": {}
     },
     "fc1e6aec31f9466cbb51a312a0811e84": {
      "model_module": "@jupyter-widgets/controls",
      "model_module_version": "2.0.0",
      "model_name": "ProgressStyleModel",
      "state": {
       "description_width": ""
      }
     },
     "fdc274438b344178b920f8a860492baf": {
      "model_module": "@jupyter-widgets/base",
      "model_module_version": "2.0.0",
      "model_name": "LayoutModel",
      "state": {}
     },
     "febbb26d26ae4cc0b6fa464742a2f7d3": {
      "model_module": "@jupyter-widgets/controls",
      "model_module_version": "2.0.0",
      "model_name": "FloatProgressModel",
      "state": {
       "bar_style": "success",
       "layout": "IPY_MODEL_afd310e5cd78438eb28bcf92ff0c724b",
       "max": 791656,
       "style": "IPY_MODEL_eb7040cab52e4a8b9fd979d4693dcdb1",
       "value": 791656
      }
     },
     "ff91ccf0983848cdaccb8a8bdb67fed2": {
      "model_module": "@jupyter-widgets/controls",
      "model_module_version": "2.0.0",
      "model_name": "FloatProgressModel",
      "state": {
       "bar_style": "success",
       "layout": "IPY_MODEL_95e0bf18ac424173a2a53a3007eaf9d0",
       "max": 1208,
       "style": "IPY_MODEL_bbee724a2cb8432fb962e9082d454cb2",
       "value": 1208
      }
     },
     "fff516566fc749cc83bf1254e35c9ab1": {
      "model_module": "@jupyter-widgets/base",
      "model_module_version": "2.0.0",
      "model_name": "LayoutModel",
      "state": {}
     }
    },
    "version_major": 2,
    "version_minor": 0
   }
  }
 },
 "nbformat": 4,
 "nbformat_minor": 5
}

{
 "cells": [
  {
   "cell_type": "markdown",
   "id": "59a86a5c-460b-45d7-b6ee-3017637e8ddc",
   "metadata": {},
   "source": [
    "## 1. Translation Task"
   ]
  },
  {
   "cell_type": "markdown",
   "id": "f6e91489-7417-49c3-a3e6-7570788a7589",
   "metadata": {},
   "source": [
    "You can test the model by translating text from English to another language (e.g., French or Spanish). The T5 model is capable of translating, so let's try some simple English-to-French translation."
   ]
  },
  {
   "cell_type": "code",
   "execution_count": 26,
   "id": "f8edb33b-63e4-4d34-8ca9-9ed652222e2f",
   "metadata": {},
   "outputs": [
    {
     "data": {
      "application/vnd.jupyter.widget-view+json": {
       "model_id": "a45d16362cae41c4a936205130b6d860",
       "version_major": 2,
       "version_minor": 0
      },
      "text/plain": [
       "model.safetensors:   6%|5         | 52.4M/892M [00:00<?, ?B/s]"
      ]
     },
     "metadata": {},
     "output_type": "display_data"
    },
    {
     "data": {
      "application/vnd.jupyter.widget-view+json": {
       "model_id": "ca2a6d90498d4795ab5f99ec01bb0d16",
       "version_major": 2,
       "version_minor": 0
      },
      "text/plain": [
       "generation_config.json:   0%|          | 0.00/147 [00:00<?, ?B/s]"
      ]
     },
     "metadata": {},
     "output_type": "display_data"
    },
    {
     "data": {
      "application/vnd.jupyter.widget-view+json": {
       "model_id": "99e9cabb01a14bfba9fe6f528c2123d9",
       "version_major": 2,
       "version_minor": 0
      },
      "text/plain": [
       "spiece.model:   0%|          | 0.00/792k [00:00<?, ?B/s]"
      ]
     },
     "metadata": {},
     "output_type": "display_data"
    },
    {
     "data": {
      "application/vnd.jupyter.widget-view+json": {
       "model_id": "33d1fdd66d2743ce996152aee47257a9",
       "version_major": 2,
       "version_minor": 0
      },
      "text/plain": [
       "tokenizer.json:   0%|          | 0.00/1.39M [00:00<?, ?B/s]"
      ]
     },
     "metadata": {},
     "output_type": "display_data"
    },
    {
     "name": "stderr",
     "output_type": "stream",
     "text": [
      "Device set to use cuda:0\n"
     ]
    },
    {
     "name": "stdout",
     "output_type": "stream",
     "text": [
      "[{'translation_text': 'Bonjour, comment êtes-vous?'}]\n"
     ]
    }
   ],
   "source": [
    "from transformers import pipeline\n",
    "\n",
    "# Use Hugging Face pipeline for translation using T5 base model\n",
    "pipe = pipeline(\"translation_en_to_fr\", model=\"t5-base\")\n",
    "\n",
    "# Test with some text\n",
    "result = pipe(\"Hello, how are you?\")\n",
    "print(result)\n"
   ]
  },
  {
   "cell_type": "markdown",
   "id": "155fb737-d6a8-455a-b6d8-d214bb961aaa",
   "metadata": {},
   "source": [
    "## 2. Text Summarization Task"
   ]
  },
  {
   "cell_type": "markdown",
   "id": "c74bc3eb-7ed7-4e96-9cbf-6128350111f6",
   "metadata": {},
   "source": [
    "T5 can be used for summarizing longer texts. Here’s an example where you input a long paragraph and the model will generate a summary."
   ]
  },
  {
   "cell_type": "code",
   "execution_count": 28,
   "id": "8fce0b20-6195-4365-951b-5eb2141010a1",
   "metadata": {},
   "outputs": [
    {
     "name": "stderr",
     "output_type": "stream",
     "text": [
      "Device set to use cuda:0\n",
      "Your max_length is set to 200, but your input_length is only 57. Since this is a summarization task, where outputs shorter than the input are typically wanted, you might consider decreasing max_length manually, e.g. summarizer('...', max_length=28)\n"
     ]
    },
    {
     "name": "stdout",
     "output_type": "stream",
     "text": [
      "[{'summary_text': 'the invention of the internet changed the way people communicate, work, and entertain themselves . it enabled new fields such as artificial intelligence, space exploration, and bioengineering .'}]\n"
     ]
    }
   ],
   "source": [
    "# Using T5 model for summarization\n",
    "pipe = pipeline(\"summarization\", model=\"t5-base\")\n",
    "\n",
    "# Test with a long text\n",
    "text = \"\"\"\n",
    "    In the 20th century, there were many significant advancements in technology and science. \n",
    "    The invention of the internet changed the way people communicate, work, and entertain themselves. \n",
    "    It enabled new fields such as artificial intelligence, space exploration, and bioengineering to flourish.\n",
    "\"\"\"\n",
    "result = pipe(text)\n",
    "print(result)\n",
    "\n"
   ]
  },
  {
   "cell_type": "markdown",
   "id": "b68642a6-6555-4235-baf0-fd272c831166",
   "metadata": {},
   "source": [
    "## 3. Text Generation Task"
   ]
  },
  {
   "cell_type": "markdown",
   "id": "c0434011-3236-4406-9c1d-893609affba3",
   "metadata": {},
   "source": [
    "You can also test the model for text generation. Let’s generate a sentence continuation from a prompt."
   ]
  },
  {
   "cell_type": "code",
   "execution_count": 36,
   "id": "49d8533b-da5f-4c58-8af4-a08be85ddbb7",
   "metadata": {},
   "outputs": [
    {
     "name": "stderr",
     "output_type": "stream",
     "text": [
      "Device set to use cuda:0\n"
     ]
    },
    {
     "name": "stdout",
     "output_type": "stream",
     "text": [
      "[{'generated_text': 'a line from a shakespeare poem.. a line from'}]\n"
     ]
    }
   ],
   "source": [
    "# Use Hugging Face pipeline for T5 model in a general task\n",
    "pipe = pipeline(\"text2text-generation\", model=\"t5-base\")\n",
    "\n",
    "# Test with some text\n",
    "result = pipe(\"Give me a line from a shakespeare poem\")\n",
    "print(result)\n",
    "\n"
   ]
  },
  {
   "cell_type": "markdown",
   "id": "88c47705-fe11-4524-a74a-6a4000e8063f",
   "metadata": {},
   "source": [
    "## 4. Question Answering (If the Model Supports It)"
   ]
  },
  {
   "cell_type": "markdown",
   "id": "9c3585ac-6fc4-4331-af70-2b632c45ce49",
   "metadata": {},
   "source": [
    "You can also try a question-answering task. T5 models support this as well. Here's an example of using the model to answer a question based on a context passage."
   ]
  },
  {
   "cell_type": "code",
   "execution_count": 40,
   "id": "ecb4e8bf-2194-4d96-85a5-ee736ed4c1d7",
   "metadata": {},
   "outputs": [
    {
     "name": "stderr",
     "output_type": "stream",
     "text": [
      "Some weights of T5ForQuestionAnswering were not initialized from the model checkpoint at t5-base and are newly initialized: ['qa_outputs.bias', 'qa_outputs.weight']\n",
      "You should probably TRAIN this model on a down-stream task to be able to use it for predictions and inference.\n",
      "Device set to use cuda:0\n"
     ]
    },
    {
     "name": "stdout",
     "output_type": "stream",
     "text": [
      "{'score': 0.0010787179926410317, 'start': 36, 'end': 69, 'answer': 'Google Research and is based on a'}\n"
     ]
    }
   ],
   "source": [
    "# Using T5 model for question answering\n",
    "pipe = pipeline(\"question-answering\", model=\"t5-base\")\n",
    "\n",
    "context = \"\"\"\n",
    "    The T5 model was introduced by Google Research and is based on a transformer architecture. \n",
    "    It is trained to handle a wide variety of NLP tasks in a unified way, using a text-to-text framework.\n",
    "\"\"\"\n",
    "question = \"Who introduced the T5 model?\"\n",
    "result = pipe(question=question, context=context)\n",
    "print(result)\n",
    "\n"
   ]
  },
  {
   "cell_type": "code",
   "execution_count": null,
   "id": "f4958778-39cf-4568-8401-172471290307",
   "metadata": {},
   "outputs": [],
   "source": []
  },
  {
   "cell_type": "code",
   "execution_count": 50,
   "id": "83b71c95-fbbf-46b3-92a9-91ce2f50595a",
   "metadata": {},
   "outputs": [
    {
     "name": "stderr",
     "output_type": "stream",
     "text": [
      "Device set to use cuda:0\n"
     ]
    },
    {
     "name": "stdout",
     "output_type": "stream",
     "text": [
      "[{'translation_text': \"Bonjour, c'est-à-dire où allez-vous ?\"}]\n"
     ]
    }
   ],
   "source": [
    "from transformers import pipeline\n",
    "\n",
    "# Use Hugging Face pipeline for translation using T5 base model\n",
    "pipe = pipeline(\"translation_en_to_fr\", model=\"google/flan-t5-large\")\n",
    "\n",
    "# Test with some text\n",
    "result = pipe(\"Translate English to French: Hello, how are you?\")\n",
    "print(result)"
   ]
  },
  {
   "cell_type": "code",
   "execution_count": 48,
   "id": "58325300-6212-4f74-853d-706a2ff0a393",
   "metadata": {},
   "outputs": [
    {
     "name": "stderr",
     "output_type": "stream",
     "text": [
      "Device set to use cuda:0\n"
     ]
    },
    {
     "name": "stdout",
     "output_type": "stream",
     "text": [
      "[{'summary_text': 'The internet was a major factor in the development of the 21st century.'}]\n"
     ]
    }
   ],
   "source": [
    "# Using T5 model for summarization\n",
    "pipe = pipeline(\"summarization\", model=\"google/flan-t5-large\")\n",
    "\n",
    "# Test with a long text\n",
    "text = \"\"\"\n",
    "    In the 20th century, there were many significant advancements in technology and science. \n",
    "    The invention of the internet changed the way people communicate, work, and entertain themselves. \n",
    "    It enabled new fields such as artificial intelligence, space exploration, and bioengineering to flourish.\n",
    "\"\"\"\n",
    "result = pipe(text)\n",
    "print(result)\n"
   ]
  },
  {
   "cell_type": "code",
   "execution_count": 52,
   "id": "6ebb95e1-5348-4793-8d65-10dcbbba3045",
   "metadata": {},
   "outputs": [
    {
     "name": "stderr",
     "output_type": "stream",
     "text": [
      "Device set to use cuda:0\n"
     ]
    },
    {
     "name": "stdout",
     "output_type": "stream",
     "text": [
      "[{'generated_text': 'i sat down to eat a scone'}]\n"
     ]
    }
   ],
   "source": [
    "# Use Hugging Face pipeline for T5 model in a general task\n",
    "pipe = pipeline(\"text2text-generation\", model=\"google/flan-t5-large\")\n",
    "\n",
    "# Test with some text\n",
    "result = pipe(\"Give me a line from a shakespeare poem\")\n",
    "print(result)"
   ]
  },
  {
   "cell_type": "code",
   "execution_count": 75,
   "id": "fa5c6671-64c9-460c-98eb-fbdc57659708",
   "metadata": {},
   "outputs": [
    {
     "name": "stderr",
     "output_type": "stream",
     "text": [
      "Some weights of T5ForQuestionAnswering were not initialized from the model checkpoint at google/flan-t5-large and are newly initialized: ['qa_outputs.bias', 'qa_outputs.weight']\n",
      "You should probably TRAIN this model on a down-stream task to be able to use it for predictions and inference.\n",
      "Device set to use cuda:0\n"
     ]
    },
    {
     "name": "stdout",
     "output_type": "stream",
     "text": [
      "{'score': 0.0010101011721417308, 'start': 42, 'end': 81, 'answer': ' Research and is based on a transformer'}\n"
     ]
    }
   ],
   "source": [
    "pipe = pipeline(\"question-answering\", model=\"google/flan-t5-large\")\n",
    "\n",
    "context = \"\"\"\n",
    "    The T5 model was introduced by Google Research and is based on a transformer architecture. \n",
    "    It is trained to handle a wide variety of NLP tasks in a unified way, using a text-to-text framework.\n",
    "\"\"\"\n",
    "question = \"Who introduced the T5 model?\"\n",
    "result = pipe(question=question, context=context)\n",
    "print(result)\n"
   ]
  },
  {
   "cell_type": "code",
   "execution_count": null,
   "id": "10d064ac-2848-41ac-bdbc-ae7745551939",
   "metadata": {},
   "outputs": [],
   "source": []
  },
  {
   "cell_type": "code",
   "execution_count": null,
   "id": "7bf2cb69-0f8f-4df6-bb4f-cc9fb77feeeb",
   "metadata": {},
   "outputs": [],
   "source": []
  }
 ],
 "metadata": {
  "kernelspec": {
   "display_name": "Python [conda env:base] *",
   "language": "python",
   "name": "conda-base-py"
  },
  "language_info": {
   "codemirror_mode": {
    "name": "ipython",
    "version": 3
   },
   "file_extension": ".py",
   "mimetype": "text/x-python",
   "name": "python",
   "nbconvert_exporter": "python",
   "pygments_lexer": "ipython3",
   "version": "3.12.7"
  },
  "widgets": {
   "application/vnd.jupyter.widget-state+json": {
    "state": {
     "001470ffd95541eeb6d843c9f519c596": {
      "model_module": "@jupyter-widgets/base",
      "model_module_version": "2.0.0",
      "model_name": "LayoutModel",
      "state": {}
     },
     "002fc9c6572649d39c37514760d105e4": {
      "model_module": "@jupyter-widgets/controls",
      "model_module_version": "2.0.0",
      "model_name": "HTMLModel",
      "state": {
       "layout": "IPY_MODEL_c9e95beb47e84fecbe16f2c9e17e68a1",
       "style": "IPY_MODEL_1e2a227609334ce199c8645fc36e2451",
       "value": "tokenizer.json: 100%"
      }
     },
     "007afa4a6ad342258ccedc017b405cf8": {
      "model_module": "@jupyter-widgets/controls",
      "model_module_version": "2.0.0",
      "model_name": "ProgressStyleModel",
      "state": {
       "description_width": ""
      }
     },
     "008a39dbc8b740abb1e13e560f3ca604": {
      "model_module": "@jupyter-widgets/controls",
      "model_module_version": "2.0.0",
      "model_name": "FloatProgressModel",
      "state": {
       "bar_style": "success",
       "layout": "IPY_MODEL_db375938f7404ac096fb4d1b2c820bce",
       "max": 662,
       "style": "IPY_MODEL_77c67df91d7e437daeec0b2678afa8d7",
       "value": 662
      }
     },
     "00dbec4d64124d41a20ec9f619835733": {
      "model_module": "@jupyter-widgets/base",
      "model_module_version": "2.0.0",
      "model_name": "LayoutModel",
      "state": {}
     },
     "070df4bb54f442129aa1fe9d3ce964d3": {
      "model_module": "@jupyter-widgets/controls",
      "model_module_version": "2.0.0",
      "model_name": "FloatProgressModel",
      "state": {
       "bar_style": "success",
       "layout": "IPY_MODEL_1b64f50a966f4e1aa9afc9b42936ae66",
       "max": 2424064,
       "style": "IPY_MODEL_9610289659b24fdd93234bfcf6de223a",
       "value": 2424064
      }
     },
     "0a4b9a14eee144d58b0583e707a05123": {
      "model_module": "@jupyter-widgets/controls",
      "model_module_version": "2.0.0",
      "model_name": "HTMLStyleModel",
      "state": {
       "description_width": "",
       "font_size": null,
       "text_color": null
      }
     },
     "0e66be1474c64035bcc561061cb69781": {
      "model_module": "@jupyter-widgets/base",
      "model_module_version": "2.0.0",
      "model_name": "LayoutModel",
      "state": {}
     },
     "0fcfb72b1acd4af6bf2643729aaa26b3": {
      "model_module": "@jupyter-widgets/controls",
      "model_module_version": "2.0.0",
      "model_name": "HBoxModel",
      "state": {
       "children": [
        "IPY_MODEL_002fc9c6572649d39c37514760d105e4",
        "IPY_MODEL_d20e6bbda12c4e959753dcaf23937e80",
        "IPY_MODEL_7152a04aa2e7496ca40d0de1c7d95b22"
       ],
       "layout": "IPY_MODEL_8cba7d92596341e0bcf1bf19f9adf6fd"
      }
     },
     "10e4e4b1d8b74e4ba8647c5810837838": {
      "model_module": "@jupyter-widgets/base",
      "model_module_version": "2.0.0",
      "model_name": "LayoutModel",
      "state": {}
     },
     "1319e08e92b743ac95d1dbe1d848b156": {
      "model_module": "@jupyter-widgets/base",
      "model_module_version": "2.0.0",
      "model_name": "LayoutModel",
      "state": {}
     },
     "1339cd88b2304d5d8e82487ba0117225": {
      "model_module": "@jupyter-widgets/controls",
      "model_module_version": "2.0.0",
      "model_name": "HTMLModel",
      "state": {
       "layout": "IPY_MODEL_8d92edfc2aa7410c875047a418d811f0",
       "style": "IPY_MODEL_ee2b3ee3f98d4217a7d79cf0a25eda90",
       "value": "config.json: 100%"
      }
     },
     "1485f7c7490549798540ece1537ef69c": {
      "model_module": "@jupyter-widgets/base",
      "model_module_version": "2.0.0",
      "model_name": "LayoutModel",
      "state": {}
     },
     "162b1a4b08b941038ccfa11c08b7f910": {
      "model_module": "@jupyter-widgets/controls",
      "model_module_version": "2.0.0",
      "model_name": "HTMLModel",
      "state": {
       "layout": "IPY_MODEL_8e59697214bd4b98b30e64af52041dbb",
       "style": "IPY_MODEL_d84bcb901a25472a88c101af045404c3",
       "value": "config.json: 100%"
      }
     },
     "16fbe182b19f41c6b71d81ef2bb56e6a": {
      "model_module": "@jupyter-widgets/base",
      "model_module_version": "2.0.0",
      "model_name": "LayoutModel",
      "state": {}
     },
     "17a831a04f7d47d2a476099ccc353735": {
      "model_module": "@jupyter-widgets/controls",
      "model_module_version": "2.0.0",
      "model_name": "HTMLModel",
      "state": {
       "layout": "IPY_MODEL_fe3eaabb2b8c4167a8cad655e45faf34",
       "style": "IPY_MODEL_7c4e5f0dccaa4ebcafdc45ad57c0f3bd",
       "value": " 2.54k/2.54k [00:00&lt;00:00, 796kB/s]"
      }
     },
     "19495c1a1a11438bba311fcff544795e": {
      "model_module": "@jupyter-widgets/controls",
      "model_module_version": "2.0.0",
      "model_name": "ProgressStyleModel",
      "state": {
       "description_width": ""
      }
     },
     "1b64f50a966f4e1aa9afc9b42936ae66": {
      "model_module": "@jupyter-widgets/base",
      "model_module_version": "2.0.0",
      "model_name": "LayoutModel",
      "state": {}
     },
     "1ceb0fdd91004e2da7ee28a3356ded1b": {
      "model_module": "@jupyter-widgets/controls",
      "model_module_version": "2.0.0",
      "model_name": "ProgressStyleModel",
      "state": {
       "description_width": ""
      }
     },
     "1e2a227609334ce199c8645fc36e2451": {
      "model_module": "@jupyter-widgets/controls",
      "model_module_version": "2.0.0",
      "model_name": "HTMLStyleModel",
      "state": {
       "description_width": "",
       "font_size": null,
       "text_color": null
      }
     },
     "20c06abbeebc40fb818e5c6965964232": {
      "model_module": "@jupyter-widgets/base",
      "model_module_version": "2.0.0",
      "model_name": "LayoutModel",
      "state": {}
     },
     "2198688bf1d74ce7ba59bb1a856f9dfc": {
      "model_module": "@jupyter-widgets/controls",
      "model_module_version": "2.0.0",
      "model_name": "FloatProgressModel",
      "state": {
       "bar_style": "success",
       "layout": "IPY_MODEL_d8ef86aa60cc4a48b4116c1f87f87496",
       "max": 791656,
       "style": "IPY_MODEL_94db4896f66845a8a2cb5a1bbf57a8e6",
       "value": 791656
      }
     },
     "2203d630beb04e3fba22f7b52e006507": {
      "model_module": "@jupyter-widgets/controls",
      "model_module_version": "2.0.0",
      "model_name": "FloatProgressModel",
      "state": {
       "bar_style": "success",
       "layout": "IPY_MODEL_a6fe11a9e1e64d73a732162d9f10b72b",
       "max": 891646390,
       "style": "IPY_MODEL_e5819d5d8ea94116af01932134b029ac",
       "value": 891646390
      }
     },
     "221d7d2496d04691bc11b37123540ade": {
      "model_module": "@jupyter-widgets/base",
      "model_module_version": "2.0.0",
      "model_name": "LayoutModel",
      "state": {}
     },
     "23bec4bf79374d03bd8e5e1f2194d3d1": {
      "model_module": "@jupyter-widgets/base",
      "model_module_version": "2.0.0",
      "model_name": "LayoutModel",
      "state": {}
     },
     "23e7c95bb31a4104995e2735eb18c8ec": {
      "model_module": "@jupyter-widgets/base",
      "model_module_version": "2.0.0",
      "model_name": "LayoutModel",
      "state": {}
     },
     "24011f75d3de4356affc1feec8e003c4": {
      "model_module": "@jupyter-widgets/controls",
      "model_module_version": "2.0.0",
      "model_name": "HTMLModel",
      "state": {
       "layout": "IPY_MODEL_75b18c42b17a42978d6454bb7b9b35e3",
       "style": "IPY_MODEL_2c69d4fb549f4e188cb297f0f9050824",
       "value": " 3.13G/3.13G [04:48&lt;00:00, 10.7MB/s]"
      }
     },
     "247e683464d84483acf7345f179329cf": {
      "model_module": "@jupyter-widgets/base",
      "model_module_version": "2.0.0",
      "model_name": "LayoutModel",
      "state": {}
     },
     "2659b4baed4b4113bdf5e2eafdf6c2c2": {
      "model_module": "@jupyter-widgets/controls",
      "model_module_version": "2.0.0",
      "model_name": "FloatProgressModel",
      "state": {
       "bar_style": "success",
       "layout": "IPY_MODEL_221d7d2496d04691bc11b37123540ade",
       "max": 2201,
       "style": "IPY_MODEL_1ceb0fdd91004e2da7ee28a3356ded1b",
       "value": 2201
      }
     },
     "284b368b48dc4f9dbe782cff51b0e38a": {
      "model_module": "@jupyter-widgets/controls",
      "model_module_version": "2.0.0",
      "model_name": "HTMLModel",
      "state": {
       "layout": "IPY_MODEL_20c06abbeebc40fb818e5c6965964232",
       "style": "IPY_MODEL_5a47bf065deb4d0aad964028c92a16e7",
       "value": " 52.4M/892M [00:05&lt;01:14, 11.2MB/s]"
      }
     },
     "2899e17790e64a8eb84f04a91b5a8e68": {
      "model_module": "@jupyter-widgets/base",
      "model_module_version": "2.0.0",
      "model_name": "LayoutModel",
      "state": {}
     },
     "28b1d3a86a2d4ed891f326d346e6f3bb": {
      "model_module": "@jupyter-widgets/base",
      "model_module_version": "2.0.0",
      "model_name": "LayoutModel",
      "state": {}
     },
     "294e23d744494f8a963b30ff1e8759c0": {
      "model_module": "@jupyter-widgets/controls",
      "model_module_version": "2.0.0",
      "model_name": "HTMLModel",
      "state": {
       "layout": "IPY_MODEL_406003a30b794404a64e56319a63132e",
       "style": "IPY_MODEL_bd97d308282845b484b0f2c04ffbb80d",
       "value": " 792k/792k [00:00&lt;00:00, 11.7MB/s]"
      }
     },
     "2a5aef13a3304af2ae3e7dabe76eb8f4": {
      "model_module": "@jupyter-widgets/controls",
      "model_module_version": "2.0.0",
      "model_name": "ProgressStyleModel",
      "state": {
       "description_width": ""
      }
     },
     "2c69d4fb549f4e188cb297f0f9050824": {
      "model_module": "@jupyter-widgets/controls",
      "model_module_version": "2.0.0",
      "model_name": "HTMLStyleModel",
      "state": {
       "description_width": "",
       "font_size": null,
       "text_color": null
      }
     },
     "2c8aa5e63d3740198e2d8b9ebc1bd826": {
      "model_module": "@jupyter-widgets/base",
      "model_module_version": "2.0.0",
      "model_name": "LayoutModel",
      "state": {}
     },
     "2dd9b94b4e7b43afb7ec6482c1518abf": {
      "model_module": "@jupyter-widgets/controls",
      "model_module_version": "2.0.0",
      "model_name": "FloatProgressModel",
      "state": {
       "bar_style": "success",
       "layout": "IPY_MODEL_5c2f58bba7244952a2bd7aa5cbca5931",
       "max": 147,
       "style": "IPY_MODEL_a9f9e7f3d10844e3848139ac01f16a25",
       "value": 147
      }
     },
     "2fdd9e98e6c545c4b8ce84e82134e077": {
      "model_module": "@jupyter-widgets/controls",
      "model_module_version": "2.0.0",
      "model_name": "HTMLStyleModel",
      "state": {
       "description_width": "",
       "font_size": null,
       "text_color": null
      }
     },
     "30f25db6451341ca8ae9e94f5a35cab3": {
      "model_module": "@jupyter-widgets/base",
      "model_module_version": "2.0.0",
      "model_name": "LayoutModel",
      "state": {}
     },
     "312fec6e77214b04b2f0a792f0555f49": {
      "model_module": "@jupyter-widgets/controls",
      "model_module_version": "2.0.0",
      "model_name": "HTMLModel",
      "state": {
       "layout": "IPY_MODEL_a968b12f7c9c4bfcb5f0d004bdb4ba65",
       "style": "IPY_MODEL_3c1b1f4c54384c74aca1041fd539a19a",
       "value": "special_tokens_map.json: 100%"
      }
     },
     "330a4c83b17645f4a4c81fab832789bb": {
      "model_module": "@jupyter-widgets/controls",
      "model_module_version": "2.0.0",
      "model_name": "HBoxModel",
      "state": {
       "children": [
        "IPY_MODEL_162b1a4b08b941038ccfa11c08b7f910",
        "IPY_MODEL_008a39dbc8b740abb1e13e560f3ca604",
        "IPY_MODEL_68e9d92932bb4156a807927839099d3e"
       ],
       "layout": "IPY_MODEL_10e4e4b1d8b74e4ba8647c5810837838"
      }
     },
     "33d1fdd66d2743ce996152aee47257a9": {
      "model_module": "@jupyter-widgets/controls",
      "model_module_version": "2.0.0",
      "model_name": "HBoxModel",
      "state": {
       "children": [
        "IPY_MODEL_706c2d137aef4567a0b6d2a5c0019d6b",
        "IPY_MODEL_a0d5437e73a64744bf9a984e4354607d",
        "IPY_MODEL_f9da1ae3c1974069902bcd64399a3f32"
       ],
       "layout": "IPY_MODEL_247e683464d84483acf7345f179329cf"
      }
     },
     "349dae9d3cd34fd688901ce2505aad56": {
      "model_module": "@jupyter-widgets/controls",
      "model_module_version": "2.0.0",
      "model_name": "HTMLModel",
      "state": {
       "layout": "IPY_MODEL_eba674c72b584c3ba55d9976663470ef",
       "style": "IPY_MODEL_a12a0bf16a1242f89fe4850d19382797",
       "value": " 2.20k/2.20k [00:00&lt;00:00, 717kB/s]"
      }
     },
     "35517cadb58a4cd585211e7cd9aeaf2f": {
      "model_module": "@jupyter-widgets/controls",
      "model_module_version": "2.0.0",
      "model_name": "HTMLModel",
      "state": {
       "layout": "IPY_MODEL_c1e5584fbee4490d9699ca03dd8fdaad",
       "style": "IPY_MODEL_ca4cf22125e442c2adf7f8d4ed7a9939",
       "value": "generation_config.json: 100%"
      }
     },
     "359dd7e60fbc49e3851f396b1f049939": {
      "model_module": "@jupyter-widgets/base",
      "model_module_version": "2.0.0",
      "model_name": "LayoutModel",
      "state": {}
     },
     "36c18076ca304d25ac66142d58dc535a": {
      "model_module": "@jupyter-widgets/base",
      "model_module_version": "2.0.0",
      "model_name": "LayoutModel",
      "state": {}
     },
     "3785f53a16424a599fff15567e5166f7": {
      "model_module": "@jupyter-widgets/controls",
      "model_module_version": "2.0.0",
      "model_name": "HBoxModel",
      "state": {
       "children": [
        "IPY_MODEL_8fffacbb569a469496805b46d6f04918",
        "IPY_MODEL_649168fdfda54272b45d5e887744e152",
        "IPY_MODEL_17a831a04f7d47d2a476099ccc353735"
       ],
       "layout": "IPY_MODEL_a17390d1ddf34d7ca33d37c863d279d9"
      }
     },
     "385892eac1a54422afe10319f3a3b954": {
      "model_module": "@jupyter-widgets/controls",
      "model_module_version": "2.0.0",
      "model_name": "HTMLStyleModel",
      "state": {
       "description_width": "",
       "font_size": null,
       "text_color": null
      }
     },
     "391b8a01d4834acabdc6c787e3a73b17": {
      "model_module": "@jupyter-widgets/controls",
      "model_module_version": "2.0.0",
      "model_name": "FloatProgressModel",
      "state": {
       "bar_style": "success",
       "layout": "IPY_MODEL_1485f7c7490549798540ece1537ef69c",
       "max": 1208,
       "style": "IPY_MODEL_739856fc409c411fa9c57be39e4b0a5e",
       "value": 1208
      }
     },
     "3b44cdd6fbaf447e892652ddf5f1d4ce": {
      "model_module": "@jupyter-widgets/base",
      "model_module_version": "2.0.0",
      "model_name": "LayoutModel",
      "state": {}
     },
     "3c17734b1e6042da817dbff5a16d392a": {
      "model_module": "@jupyter-widgets/base",
      "model_module_version": "2.0.0",
      "model_name": "LayoutModel",
      "state": {}
     },
     "3c1b1f4c54384c74aca1041fd539a19a": {
      "model_module": "@jupyter-widgets/controls",
      "model_module_version": "2.0.0",
      "model_name": "HTMLStyleModel",
      "state": {
       "description_width": "",
       "font_size": null,
       "text_color": null
      }
     },
     "3d9b821278494faeaac8aaa8db8bf5ac": {
      "model_module": "@jupyter-widgets/controls",
      "model_module_version": "2.0.0",
      "model_name": "HTMLModel",
      "state": {
       "layout": "IPY_MODEL_23e7c95bb31a4104995e2735eb18c8ec",
       "style": "IPY_MODEL_385892eac1a54422afe10319f3a3b954",
       "value": " 1.21k/1.21k [00:00&lt;00:00, 173kB/s]"
      }
     },
     "403f1714ee6d4a2e80adab5a2965cc23": {
      "model_module": "@jupyter-widgets/controls",
      "model_module_version": "2.0.0",
      "model_name": "HTMLModel",
      "state": {
       "layout": "IPY_MODEL_48d115d2510640708628acf97845a8be",
       "style": "IPY_MODEL_56f64f09c6484f5a948ac66560d3fe33",
       "value": "model.safetensors:   6%"
      }
     },
     "406003a30b794404a64e56319a63132e": {
      "model_module": "@jupyter-widgets/base",
      "model_module_version": "2.0.0",
      "model_name": "LayoutModel",
      "state": {}
     },
     "419592f493a34d2b8c893c0bb4420f93": {
      "model_module": "@jupyter-widgets/controls",
      "model_module_version": "2.0.0",
      "model_name": "HBoxModel",
      "state": {
       "children": [
        "IPY_MODEL_6a23796062504a299770f9b656cd1c17",
        "IPY_MODEL_e66f15f6d5564ee5b4ef8f73c24aaf7f",
        "IPY_MODEL_294e23d744494f8a963b30ff1e8759c0"
       ],
       "layout": "IPY_MODEL_2899e17790e64a8eb84f04a91b5a8e68"
      }
     },
     "45f8ca653c3241128998c607a3a3e759": {
      "model_module": "@jupyter-widgets/controls",
      "model_module_version": "2.0.0",
      "model_name": "ProgressStyleModel",
      "state": {
       "description_width": ""
      }
     },
     "48d115d2510640708628acf97845a8be": {
      "model_module": "@jupyter-widgets/base",
      "model_module_version": "2.0.0",
      "model_name": "LayoutModel",
      "state": {}
     },
     "49b2589c7c45427388d44e38b27e856d": {
      "model_module": "@jupyter-widgets/controls",
      "model_module_version": "2.0.0",
      "model_name": "HTMLStyleModel",
      "state": {
       "description_width": "",
       "font_size": null,
       "text_color": null
      }
     },
     "49b9b90517ed458cb3335118158f109f": {
      "model_module": "@jupyter-widgets/controls",
      "model_module_version": "2.0.0",
      "model_name": "HBoxModel",
      "state": {
       "children": [
        "IPY_MODEL_312fec6e77214b04b2f0a792f0555f49",
        "IPY_MODEL_2659b4baed4b4113bdf5e2eafdf6c2c2",
        "IPY_MODEL_349dae9d3cd34fd688901ce2505aad56"
       ],
       "layout": "IPY_MODEL_c71c3807576c447791d58065d41d1870"
      }
     },
     "49f9124c31ae44e9b57cdeba1ede46f2": {
      "model_module": "@jupyter-widgets/base",
      "model_module_version": "2.0.0",
      "model_name": "LayoutModel",
      "state": {}
     },
     "4ea2ec1ccf6f40c786c00d05aed502dc": {
      "model_module": "@jupyter-widgets/base",
      "model_module_version": "2.0.0",
      "model_name": "LayoutModel",
      "state": {}
     },
     "4fff75e2c5284adc92c3bf08a476f253": {
      "model_module": "@jupyter-widgets/controls",
      "model_module_version": "2.0.0",
      "model_name": "HTMLStyleModel",
      "state": {
       "description_width": "",
       "font_size": null,
       "text_color": null
      }
     },
     "50f747ff61ee4d2c858b3be59420e903": {
      "model_module": "@jupyter-widgets/controls",
      "model_module_version": "2.0.0",
      "model_name": "FloatProgressModel",
      "state": {
       "bar_style": "success",
       "layout": "IPY_MODEL_3b44cdd6fbaf447e892652ddf5f1d4ce",
       "max": 147,
       "style": "IPY_MODEL_2a5aef13a3304af2ae3e7dabe76eb8f4",
       "value": 147
      }
     },
     "51065c005fd34a1fb20a6cf7e6aa2eb8": {
      "model_module": "@jupyter-widgets/controls",
      "model_module_version": "2.0.0",
      "model_name": "HTMLModel",
      "state": {
       "layout": "IPY_MODEL_6f6ef3055603417d87c1f1bbc6d7e4a0",
       "style": "IPY_MODEL_ea5051ecddaa4bc3a374e22ed72f4265",
       "value": "generation_config.json: 100%"
      }
     },
     "56f64f09c6484f5a948ac66560d3fe33": {
      "model_module": "@jupyter-widgets/controls",
      "model_module_version": "2.0.0",
      "model_name": "HTMLStyleModel",
      "state": {
       "description_width": "",
       "font_size": null,
       "text_color": null
      }
     },
     "5a47bf065deb4d0aad964028c92a16e7": {
      "model_module": "@jupyter-widgets/controls",
      "model_module_version": "2.0.0",
      "model_name": "HTMLStyleModel",
      "state": {
       "description_width": "",
       "font_size": null,
       "text_color": null
      }
     },
     "5c2f58bba7244952a2bd7aa5cbca5931": {
      "model_module": "@jupyter-widgets/base",
      "model_module_version": "2.0.0",
      "model_name": "LayoutModel",
      "state": {}
     },
     "5d6868b4037e4020bc503331f499cfda": {
      "model_module": "@jupyter-widgets/controls",
      "model_module_version": "2.0.0",
      "model_name": "HTMLStyleModel",
      "state": {
       "description_width": "",
       "font_size": null,
       "text_color": null
      }
     },
     "5d6d5f1ece2d48ee81dcbc4881f1df9b": {
      "model_module": "@jupyter-widgets/controls",
      "model_module_version": "2.0.0",
      "model_name": "HBoxModel",
      "state": {
       "children": [
        "IPY_MODEL_403f1714ee6d4a2e80adab5a2965cc23",
        "IPY_MODEL_c8e321fc62c7463a8eee335c98293351",
        "IPY_MODEL_284b368b48dc4f9dbe782cff51b0e38a"
       ],
       "layout": "IPY_MODEL_697c798def4043c9be0eaa59c37b72f1"
      }
     },
     "5dd84621013343b581c72e3f444573e2": {
      "model_module": "@jupyter-widgets/controls",
      "model_module_version": "2.0.0",
      "model_name": "HTMLStyleModel",
      "state": {
       "description_width": "",
       "font_size": null,
       "text_color": null
      }
     },
     "5e3254f1c6fe4d82b510171561878279": {
      "model_module": "@jupyter-widgets/controls",
      "model_module_version": "2.0.0",
      "model_name": "HTMLStyleModel",
      "state": {
       "description_width": "",
       "font_size": null,
       "text_color": null
      }
     },
     "602b4e4267d94357b3c9243ed7d61e06": {
      "model_module": "@jupyter-widgets/controls",
      "model_module_version": "2.0.0",
      "model_name": "FloatProgressModel",
      "state": {
       "bar_style": "success",
       "layout": "IPY_MODEL_3c17734b1e6042da817dbff5a16d392a",
       "max": 891646390,
       "style": "IPY_MODEL_fc1e6aec31f9466cbb51a312a0811e84",
       "value": 891646390
      }
     },
     "616f1298925846e59a3a6c76cac66311": {
      "model_module": "@jupyter-widgets/controls",
      "model_module_version": "2.0.0",
      "model_name": "HTMLStyleModel",
      "state": {
       "description_width": "",
       "font_size": null,
       "text_color": null
      }
     },
     "62f8d2fd9c864da0a281a24b8b6ea395": {
      "model_module": "@jupyter-widgets/controls",
      "model_module_version": "2.0.0",
      "model_name": "HTMLStyleModel",
      "state": {
       "description_width": "",
       "font_size": null,
       "text_color": null
      }
     },
     "649168fdfda54272b45d5e887744e152": {
      "model_module": "@jupyter-widgets/controls",
      "model_module_version": "2.0.0",
      "model_name": "FloatProgressModel",
      "state": {
       "bar_style": "success",
       "layout": "IPY_MODEL_a970b25606cf4ec1a840ecf794041caf",
       "max": 2539,
       "style": "IPY_MODEL_db46e5224a57445b80d9e88f32cd146b",
       "value": 2539
      }
     },
     "655953be5e9a473d99a81781e179b792": {
      "model_module": "@jupyter-widgets/base",
      "model_module_version": "2.0.0",
      "model_name": "LayoutModel",
      "state": {}
     },
     "66f88792034342729a57c47a9c27ea2d": {
      "model_module": "@jupyter-widgets/controls",
      "model_module_version": "2.0.0",
      "model_name": "HTMLModel",
      "state": {
       "layout": "IPY_MODEL_b468f28ac4ed44f3a80b48823d840382",
       "style": "IPY_MODEL_2fdd9e98e6c545c4b8ce84e82134e077",
       "value": " 792k/792k [00:00&lt;00:00, 12.0MB/s]"
      }
     },
     "672119c716f942de8b97c55393088384": {
      "model_module": "@jupyter-widgets/base",
      "model_module_version": "2.0.0",
      "model_name": "LayoutModel",
      "state": {}
     },
     "68e9d92932bb4156a807927839099d3e": {
      "model_module": "@jupyter-widgets/controls",
      "model_module_version": "2.0.0",
      "model_name": "HTMLModel",
      "state": {
       "layout": "IPY_MODEL_16fbe182b19f41c6b71d81ef2bb56e6a",
       "style": "IPY_MODEL_b5ef838409aa4fc19e67ef06b589c896",
       "value": " 662/662 [00:00&lt;00:00, 188kB/s]"
      }
     },
     "697c798def4043c9be0eaa59c37b72f1": {
      "model_module": "@jupyter-widgets/base",
      "model_module_version": "2.0.0",
      "model_name": "LayoutModel",
      "state": {}
     },
     "6a23796062504a299770f9b656cd1c17": {
      "model_module": "@jupyter-widgets/controls",
      "model_module_version": "2.0.0",
      "model_name": "HTMLModel",
      "state": {
       "layout": "IPY_MODEL_febe6013fec54b9690163a653f57f322",
       "style": "IPY_MODEL_b270fffa8a8449e28ed258c17490bee2",
       "value": "spiece.model: 100%"
      }
     },
     "6bc83ea2221341e0bc679094d60f2368": {
      "model_module": "@jupyter-widgets/controls",
      "model_module_version": "2.0.0",
      "model_name": "FloatProgressModel",
      "state": {
       "bar_style": "success",
       "layout": "IPY_MODEL_672119c716f942de8b97c55393088384",
       "max": 147,
       "style": "IPY_MODEL_19495c1a1a11438bba311fcff544795e",
       "value": 147
      }
     },
     "6dc272b8ee6741f8befb46cdbabb74ab": {
      "model_module": "@jupyter-widgets/controls",
      "model_module_version": "2.0.0",
      "model_name": "HTMLModel",
      "state": {
       "layout": "IPY_MODEL_36c18076ca304d25ac66142d58dc535a",
       "style": "IPY_MODEL_7c081eab6b14400e93a4cba83836b262",
       "value": " 1.21k/1.21k [00:00&lt;00:00, 297kB/s]"
      }
     },
     "6ee858d5f40d4cb7a06fc6373d57cec4": {
      "model_module": "@jupyter-widgets/base",
      "model_module_version": "2.0.0",
      "model_name": "LayoutModel",
      "state": {}
     },
     "6f6ef3055603417d87c1f1bbc6d7e4a0": {
      "model_module": "@jupyter-widgets/base",
      "model_module_version": "2.0.0",
      "model_name": "LayoutModel",
      "state": {}
     },
     "706c2d137aef4567a0b6d2a5c0019d6b": {
      "model_module": "@jupyter-widgets/controls",
      "model_module_version": "2.0.0",
      "model_name": "HTMLModel",
      "state": {
       "layout": "IPY_MODEL_adfb9305e54d4c579ef510d5c09bbc78",
       "style": "IPY_MODEL_5dd84621013343b581c72e3f444573e2",
       "value": "tokenizer.json: 100%"
      }
     },
     "7152a04aa2e7496ca40d0de1c7d95b22": {
      "model_module": "@jupyter-widgets/controls",
      "model_module_version": "2.0.0",
      "model_name": "HTMLModel",
      "state": {
       "layout": "IPY_MODEL_895f56d124384e7f91485ca56c0c0362",
       "style": "IPY_MODEL_d262979b153a478a9cc66b2e7b4143d2",
       "value": " 1.39M/1.39M [00:00&lt;00:00, 7.96MB/s]"
      }
     },
     "739856fc409c411fa9c57be39e4b0a5e": {
      "model_module": "@jupyter-widgets/controls",
      "model_module_version": "2.0.0",
      "model_name": "ProgressStyleModel",
      "state": {
       "description_width": ""
      }
     },
     "75b18c42b17a42978d6454bb7b9b35e3": {
      "model_module": "@jupyter-widgets/base",
      "model_module_version": "2.0.0",
      "model_name": "LayoutModel",
      "state": {}
     },
     "77c67df91d7e437daeec0b2678afa8d7": {
      "model_module": "@jupyter-widgets/controls",
      "model_module_version": "2.0.0",
      "model_name": "ProgressStyleModel",
      "state": {
       "description_width": ""
      }
     },
     "7884a80d69b7424dbcd96369a874aab5": {
      "model_module": "@jupyter-widgets/controls",
      "model_module_version": "2.0.0",
      "model_name": "HTMLModel",
      "state": {
       "layout": "IPY_MODEL_ddf4b58e25a34933875427f1294e69cd",
       "style": "IPY_MODEL_ed7e571f8ad04a50a6a97c04d57bc1a0",
       "value": " 147/147 [00:00&lt;00:00, 48.1kB/s]"
      }
     },
     "78be03b9e16c49f2b69ca3d07d281d51": {
      "model_module": "@jupyter-widgets/controls",
      "model_module_version": "2.0.0",
      "model_name": "HTMLStyleModel",
      "state": {
       "description_width": "",
       "font_size": null,
       "text_color": null
      }
     },
     "79699aa9952942fcb9df600b0790c7fd": {
      "model_module": "@jupyter-widgets/base",
      "model_module_version": "2.0.0",
      "model_name": "LayoutModel",
      "state": {}
     },
     "798f4995747745a19b8a319ea607bc41": {
      "model_module": "@jupyter-widgets/controls",
      "model_module_version": "2.0.0",
      "model_name": "HTMLStyleModel",
      "state": {
       "description_width": "",
       "font_size": null,
       "text_color": null
      }
     },
     "7c081eab6b14400e93a4cba83836b262": {
      "model_module": "@jupyter-widgets/controls",
      "model_module_version": "2.0.0",
      "model_name": "HTMLStyleModel",
      "state": {
       "description_width": "",
       "font_size": null,
       "text_color": null
      }
     },
     "7c4e5f0dccaa4ebcafdc45ad57c0f3bd": {
      "model_module": "@jupyter-widgets/controls",
      "model_module_version": "2.0.0",
      "model_name": "HTMLStyleModel",
      "state": {
       "description_width": "",
       "font_size": null,
       "text_color": null
      }
     },
     "81ae3b15c8634bc2b4ca3bb7941987bd": {
      "model_module": "@jupyter-widgets/controls",
      "model_module_version": "2.0.0",
      "model_name": "HTMLStyleModel",
      "state": {
       "description_width": "",
       "font_size": null,
       "text_color": null
      }
     },
     "8857fa707edf4701beae2b6ff04afb67": {
      "model_module": "@jupyter-widgets/controls",
      "model_module_version": "2.0.0",
      "model_name": "HTMLModel",
      "state": {
       "layout": "IPY_MODEL_92a0cb7b52d044ffa5dbbdc5c923f0f0",
       "style": "IPY_MODEL_49b2589c7c45427388d44e38b27e856d",
       "value": " 792k/792k [00:00&lt;00:00, 6.77MB/s]"
      }
     },
     "895f56d124384e7f91485ca56c0c0362": {
      "model_module": "@jupyter-widgets/base",
      "model_module_version": "2.0.0",
      "model_name": "LayoutModel",
      "state": {}
     },
     "8c7c16244c5f4abaaeb25514aa9f124a": {
      "model_module": "@jupyter-widgets/base",
      "model_module_version": "2.0.0",
      "model_name": "LayoutModel",
      "state": {}
     },
     "8cba7d92596341e0bcf1bf19f9adf6fd": {
      "model_module": "@jupyter-widgets/base",
      "model_module_version": "2.0.0",
      "model_name": "LayoutModel",
      "state": {}
     },
     "8d92edfc2aa7410c875047a418d811f0": {
      "model_module": "@jupyter-widgets/base",
      "model_module_version": "2.0.0",
      "model_name": "LayoutModel",
      "state": {}
     },
     "8e59697214bd4b98b30e64af52041dbb": {
      "model_module": "@jupyter-widgets/base",
      "model_module_version": "2.0.0",
      "model_name": "LayoutModel",
      "state": {}
     },
     "8fffacbb569a469496805b46d6f04918": {
      "model_module": "@jupyter-widgets/controls",
      "model_module_version": "2.0.0",
      "model_name": "HTMLModel",
      "state": {
       "layout": "IPY_MODEL_28b1d3a86a2d4ed891f326d346e6f3bb",
       "style": "IPY_MODEL_0a4b9a14eee144d58b0583e707a05123",
       "value": "tokenizer_config.json: 100%"
      }
     },
     "92a0cb7b52d044ffa5dbbdc5c923f0f0": {
      "model_module": "@jupyter-widgets/base",
      "model_module_version": "2.0.0",
      "model_name": "LayoutModel",
      "state": {}
     },
     "94db4896f66845a8a2cb5a1bbf57a8e6": {
      "model_module": "@jupyter-widgets/controls",
      "model_module_version": "2.0.0",
      "model_name": "ProgressStyleModel",
      "state": {
       "description_width": ""
      }
     },
     "94e72ce5d660455597cd642f22e06eea": {
      "model_module": "@jupyter-widgets/controls",
      "model_module_version": "2.0.0",
      "model_name": "HBoxModel",
      "state": {
       "children": [
        "IPY_MODEL_fae42f9b2a714a22b50ec825444bc706",
        "IPY_MODEL_070df4bb54f442129aa1fe9d3ce964d3",
        "IPY_MODEL_bafa10fc4de74ac3b439a296cabcf720"
       ],
       "layout": "IPY_MODEL_4ea2ec1ccf6f40c786c00d05aed502dc"
      }
     },
     "9555ec48777f4f2e8c290d800a2bb892": {
      "model_module": "@jupyter-widgets/controls",
      "model_module_version": "2.0.0",
      "model_name": "HTMLModel",
      "state": {
       "layout": "IPY_MODEL_fff516566fc749cc83bf1254e35c9ab1",
       "style": "IPY_MODEL_eab1d648193045d5b29c572013ce1ce1",
       "value": " 147/147 [00:00&lt;00:00, 35.9kB/s]"
      }
     },
     "95e0bf18ac424173a2a53a3007eaf9d0": {
      "model_module": "@jupyter-widgets/base",
      "model_module_version": "2.0.0",
      "model_name": "LayoutModel",
      "state": {}
     },
     "9610289659b24fdd93234bfcf6de223a": {
      "model_module": "@jupyter-widgets/controls",
      "model_module_version": "2.0.0",
      "model_name": "ProgressStyleModel",
      "state": {
       "description_width": ""
      }
     },
     "99e9cabb01a14bfba9fe6f528c2123d9": {
      "model_module": "@jupyter-widgets/controls",
      "model_module_version": "2.0.0",
      "model_name": "HBoxModel",
      "state": {
       "children": [
        "IPY_MODEL_ab5fc72b3bc94d94947ee72efb564184",
        "IPY_MODEL_2198688bf1d74ce7ba59bb1a856f9dfc",
        "IPY_MODEL_66f88792034342729a57c47a9c27ea2d"
       ],
       "layout": "IPY_MODEL_c61a2393517941009af513d42f7ab1e7"
      }
     },
     "9af3a5a156c94734805f8009fd5d7ecb": {
      "model_module": "@jupyter-widgets/controls",
      "model_module_version": "2.0.0",
      "model_name": "HTMLModel",
      "state": {
       "layout": "IPY_MODEL_c479cf675c9b405294b915f6b34f39e7",
       "style": "IPY_MODEL_616f1298925846e59a3a6c76cac66311",
       "value": "generation_config.json: 100%"
      }
     },
     "9b75e4a2ed2044ee943fb6cf8e67462a": {
      "model_module": "@jupyter-widgets/base",
      "model_module_version": "2.0.0",
      "model_name": "LayoutModel",
      "state": {}
     },
     "9bc14ddd6998451681f3c298a5ab440a": {
      "model_module": "@jupyter-widgets/controls",
      "model_module_version": "2.0.0",
      "model_name": "HBoxModel",
      "state": {
       "children": [
        "IPY_MODEL_a57dddbc8f364821994fca6c97b25622",
        "IPY_MODEL_ff91ccf0983848cdaccb8a8bdb67fed2",
        "IPY_MODEL_3d9b821278494faeaac8aaa8db8bf5ac"
       ],
       "layout": "IPY_MODEL_49f9124c31ae44e9b57cdeba1ede46f2"
      }
     },
     "a0d5437e73a64744bf9a984e4354607d": {
      "model_module": "@jupyter-widgets/controls",
      "model_module_version": "2.0.0",
      "model_name": "FloatProgressModel",
      "state": {
       "bar_style": "success",
       "layout": "IPY_MODEL_6ee858d5f40d4cb7a06fc6373d57cec4",
       "max": 1389353,
       "style": "IPY_MODEL_c063f99838874a888d96711e271361c5",
       "value": 1389353
      }
     },
     "a12a0bf16a1242f89fe4850d19382797": {
      "model_module": "@jupyter-widgets/controls",
      "model_module_version": "2.0.0",
      "model_name": "HTMLStyleModel",
      "state": {
       "description_width": "",
       "font_size": null,
       "text_color": null
      }
     },
     "a17390d1ddf34d7ca33d37c863d279d9": {
      "model_module": "@jupyter-widgets/base",
      "model_module_version": "2.0.0",
      "model_name": "LayoutModel",
      "state": {}
     },
     "a45d16362cae41c4a936205130b6d860": {
      "model_module": "@jupyter-widgets/controls",
      "model_module_version": "2.0.0",
      "model_name": "HBoxModel",
      "state": {
       "children": [
        "IPY_MODEL_d6bbfc3716514c7d8378ff27914bb172",
        "IPY_MODEL_2203d630beb04e3fba22f7b52e006507",
        "IPY_MODEL_e73c999879ee495fb652c0c12efcea42"
       ],
       "layout": "IPY_MODEL_cb777f616c704c799167be4ebc7171d5"
      }
     },
     "a57dddbc8f364821994fca6c97b25622": {
      "model_module": "@jupyter-widgets/controls",
      "model_module_version": "2.0.0",
      "model_name": "HTMLModel",
      "state": {
       "layout": "IPY_MODEL_e16682935af04258bc1ec81b0e6293b6",
       "style": "IPY_MODEL_d6cfda69752243a9b1d3438e18ee8ee4",
       "value": "config.json: 100%"
      }
     },
     "a66aa9a9cef14ade81064e8c18f4a446": {
      "model_module": "@jupyter-widgets/base",
      "model_module_version": "2.0.0",
      "model_name": "LayoutModel",
      "state": {}
     },
     "a6fe11a9e1e64d73a732162d9f10b72b": {
      "model_module": "@jupyter-widgets/base",
      "model_module_version": "2.0.0",
      "model_name": "LayoutModel",
      "state": {}
     },
     "a968b12f7c9c4bfcb5f0d004bdb4ba65": {
      "model_module": "@jupyter-widgets/base",
      "model_module_version": "2.0.0",
      "model_name": "LayoutModel",
      "state": {}
     },
     "a970b25606cf4ec1a840ecf794041caf": {
      "model_module": "@jupyter-widgets/base",
      "model_module_version": "2.0.0",
      "model_name": "LayoutModel",
      "state": {}
     },
     "a9f9e7f3d10844e3848139ac01f16a25": {
      "model_module": "@jupyter-widgets/controls",
      "model_module_version": "2.0.0",
      "model_name": "ProgressStyleModel",
      "state": {
       "description_width": ""
      }
     },
     "ab5fc72b3bc94d94947ee72efb564184": {
      "model_module": "@jupyter-widgets/controls",
      "model_module_version": "2.0.0",
      "model_name": "HTMLModel",
      "state": {
       "layout": "IPY_MODEL_001470ffd95541eeb6d843c9f519c596",
       "style": "IPY_MODEL_d768969266b846c797bef82a26a71260",
       "value": "spiece.model: 100%"
      }
     },
     "ac3ca15578134c7ea86174e2518bc188": {
      "model_module": "@jupyter-widgets/controls",
      "model_module_version": "2.0.0",
      "model_name": "HTMLStyleModel",
      "state": {
       "description_width": "",
       "font_size": null,
       "text_color": null
      }
     },
     "ac3f4acab1424bc1a5d06b6ccb4c2757": {
      "model_module": "@jupyter-widgets/controls",
      "model_module_version": "2.0.0",
      "model_name": "ProgressStyleModel",
      "state": {
       "description_width": ""
      }
     },
     "accdd88097f441e09235e92a27d61538": {
      "model_module": "@jupyter-widgets/controls",
      "model_module_version": "2.0.0",
      "model_name": "HBoxModel",
      "state": {
       "children": [
        "IPY_MODEL_1339cd88b2304d5d8e82487ba0117225",
        "IPY_MODEL_391b8a01d4834acabdc6c787e3a73b17",
        "IPY_MODEL_6dc272b8ee6741f8befb46cdbabb74ab"
       ],
       "layout": "IPY_MODEL_79699aa9952942fcb9df600b0790c7fd"
      }
     },
     "adfb9305e54d4c579ef510d5c09bbc78": {
      "model_module": "@jupyter-widgets/base",
      "model_module_version": "2.0.0",
      "model_name": "LayoutModel",
      "state": {}
     },
     "afd310e5cd78438eb28bcf92ff0c724b": {
      "model_module": "@jupyter-widgets/base",
      "model_module_version": "2.0.0",
      "model_name": "LayoutModel",
      "state": {}
     },
     "b0eeecf68a2a43a79134b05f8afaea15": {
      "model_module": "@jupyter-widgets/controls",
      "model_module_version": "2.0.0",
      "model_name": "HBoxModel",
      "state": {
       "children": [
        "IPY_MODEL_f0c96ecc097e4937a2d797952b394bd7",
        "IPY_MODEL_febbb26d26ae4cc0b6fa464742a2f7d3",
        "IPY_MODEL_8857fa707edf4701beae2b6ff04afb67"
       ],
       "layout": "IPY_MODEL_9b75e4a2ed2044ee943fb6cf8e67462a"
      }
     },
     "b270fffa8a8449e28ed258c17490bee2": {
      "model_module": "@jupyter-widgets/controls",
      "model_module_version": "2.0.0",
      "model_name": "HTMLStyleModel",
      "state": {
       "description_width": "",
       "font_size": null,
       "text_color": null
      }
     },
     "b468f28ac4ed44f3a80b48823d840382": {
      "model_module": "@jupyter-widgets/base",
      "model_module_version": "2.0.0",
      "model_name": "LayoutModel",
      "state": {}
     },
     "b5ef838409aa4fc19e67ef06b589c896": {
      "model_module": "@jupyter-widgets/controls",
      "model_module_version": "2.0.0",
      "model_name": "HTMLStyleModel",
      "state": {
       "description_width": "",
       "font_size": null,
       "text_color": null
      }
     },
     "b81bc0c4a33844f6a4e0c60acf80a769": {
      "model_module": "@jupyter-widgets/controls",
      "model_module_version": "2.0.0",
      "model_name": "HBoxModel",
      "state": {
       "children": [
        "IPY_MODEL_d732b07a955d4f4a8a0918bdcb8fecd2",
        "IPY_MODEL_de3adec8b0b2445daf6ce3df7e16ff87",
        "IPY_MODEL_24011f75d3de4356affc1feec8e003c4"
       ],
       "layout": "IPY_MODEL_2c8aa5e63d3740198e2d8b9ebc1bd826"
      }
     },
     "bafa10fc4de74ac3b439a296cabcf720": {
      "model_module": "@jupyter-widgets/controls",
      "model_module_version": "2.0.0",
      "model_name": "HTMLModel",
      "state": {
       "layout": "IPY_MODEL_1319e08e92b743ac95d1dbe1d848b156",
       "style": "IPY_MODEL_798f4995747745a19b8a319ea607bc41",
       "value": " 2.42M/2.42M [00:00&lt;00:00, 11.8MB/s]"
      }
     },
     "bbee724a2cb8432fb962e9082d454cb2": {
      "model_module": "@jupyter-widgets/controls",
      "model_module_version": "2.0.0",
      "model_name": "ProgressStyleModel",
      "state": {
       "description_width": ""
      }
     },
     "bd97d308282845b484b0f2c04ffbb80d": {
      "model_module": "@jupyter-widgets/controls",
      "model_module_version": "2.0.0",
      "model_name": "HTMLStyleModel",
      "state": {
       "description_width": "",
       "font_size": null,
       "text_color": null
      }
     },
     "c063f99838874a888d96711e271361c5": {
      "model_module": "@jupyter-widgets/controls",
      "model_module_version": "2.0.0",
      "model_name": "ProgressStyleModel",
      "state": {
       "description_width": ""
      }
     },
     "c1e5584fbee4490d9699ca03dd8fdaad": {
      "model_module": "@jupyter-widgets/base",
      "model_module_version": "2.0.0",
      "model_name": "LayoutModel",
      "state": {}
     },
     "c479cf675c9b405294b915f6b34f39e7": {
      "model_module": "@jupyter-widgets/base",
      "model_module_version": "2.0.0",
      "model_name": "LayoutModel",
      "state": {}
     },
     "c47f2169bb5c4d61ba15f82d22b946e3": {
      "model_module": "@jupyter-widgets/base",
      "model_module_version": "2.0.0",
      "model_name": "LayoutModel",
      "state": {}
     },
     "c61a2393517941009af513d42f7ab1e7": {
      "model_module": "@jupyter-widgets/base",
      "model_module_version": "2.0.0",
      "model_name": "LayoutModel",
      "state": {}
     },
     "c71c3807576c447791d58065d41d1870": {
      "model_module": "@jupyter-widgets/base",
      "model_module_version": "2.0.0",
      "model_name": "LayoutModel",
      "state": {}
     },
     "c8e321fc62c7463a8eee335c98293351": {
      "model_module": "@jupyter-widgets/controls",
      "model_module_version": "2.0.0",
      "model_name": "FloatProgressModel",
      "state": {
       "bar_style": "danger",
       "layout": "IPY_MODEL_f51f07b084c949e5ab208c3ff121df42",
       "max": 891646390,
       "style": "IPY_MODEL_45f8ca653c3241128998c607a3a3e759",
       "value": 52428800
      }
     },
     "c9e95beb47e84fecbe16f2c9e17e68a1": {
      "model_module": "@jupyter-widgets/base",
      "model_module_version": "2.0.0",
      "model_name": "LayoutModel",
      "state": {}
     },
     "ca2a6d90498d4795ab5f99ec01bb0d16": {
      "model_module": "@jupyter-widgets/controls",
      "model_module_version": "2.0.0",
      "model_name": "HBoxModel",
      "state": {
       "children": [
        "IPY_MODEL_51065c005fd34a1fb20a6cf7e6aa2eb8",
        "IPY_MODEL_6bc83ea2221341e0bc679094d60f2368",
        "IPY_MODEL_9555ec48777f4f2e8c290d800a2bb892"
       ],
       "layout": "IPY_MODEL_30f25db6451341ca8ae9e94f5a35cab3"
      }
     },
     "ca4cf22125e442c2adf7f8d4ed7a9939": {
      "model_module": "@jupyter-widgets/controls",
      "model_module_version": "2.0.0",
      "model_name": "HTMLStyleModel",
      "state": {
       "description_width": "",
       "font_size": null,
       "text_color": null
      }
     },
     "cb777f616c704c799167be4ebc7171d5": {
      "model_module": "@jupyter-widgets/base",
      "model_module_version": "2.0.0",
      "model_name": "LayoutModel",
      "state": {}
     },
     "cbc7a41f115745b4a17db03be3fa28e7": {
      "model_module": "@jupyter-widgets/controls",
      "model_module_version": "2.0.0",
      "model_name": "HTMLModel",
      "state": {
       "layout": "IPY_MODEL_f9998670be294d27a8e572d08427eccc",
       "style": "IPY_MODEL_dbcf0893ac9947ccbfd1f57deff1f2d0",
       "value": "model.safetensors: 100%"
      }
     },
     "ce211a2d77c147e080605ca5a5d72bab": {
      "model_module": "@jupyter-widgets/base",
      "model_module_version": "2.0.0",
      "model_name": "LayoutModel",
      "state": {}
     },
     "d082f9f46aec4f02b3b599ecb91748ed": {
      "model_module": "@jupyter-widgets/base",
      "model_module_version": "2.0.0",
      "model_name": "LayoutModel",
      "state": {}
     },
     "d20e6bbda12c4e959753dcaf23937e80": {
      "model_module": "@jupyter-widgets/controls",
      "model_module_version": "2.0.0",
      "model_name": "FloatProgressModel",
      "state": {
       "bar_style": "success",
       "layout": "IPY_MODEL_c47f2169bb5c4d61ba15f82d22b946e3",
       "max": 1389353,
       "style": "IPY_MODEL_d978af6f96da41bfa62595bb3b459a34",
       "value": 1389353
      }
     },
     "d262979b153a478a9cc66b2e7b4143d2": {
      "model_module": "@jupyter-widgets/controls",
      "model_module_version": "2.0.0",
      "model_name": "HTMLStyleModel",
      "state": {
       "description_width": "",
       "font_size": null,
       "text_color": null
      }
     },
     "d6bbfc3716514c7d8378ff27914bb172": {
      "model_module": "@jupyter-widgets/controls",
      "model_module_version": "2.0.0",
      "model_name": "HTMLModel",
      "state": {
       "layout": "IPY_MODEL_fa37951c9e464efd8ea174cd9e9b4687",
       "style": "IPY_MODEL_eaf6144ae1364b66910261043ff1926a",
       "value": "model.safetensors: 100%"
      }
     },
     "d6cfda69752243a9b1d3438e18ee8ee4": {
      "model_module": "@jupyter-widgets/controls",
      "model_module_version": "2.0.0",
      "model_name": "HTMLStyleModel",
      "state": {
       "description_width": "",
       "font_size": null,
       "text_color": null
      }
     },
     "d732b07a955d4f4a8a0918bdcb8fecd2": {
      "model_module": "@jupyter-widgets/controls",
      "model_module_version": "2.0.0",
      "model_name": "HTMLModel",
      "state": {
       "layout": "IPY_MODEL_d082f9f46aec4f02b3b599ecb91748ed",
       "style": "IPY_MODEL_81ae3b15c8634bc2b4ca3bb7941987bd",
       "value": "model.safetensors: 100%"
      }
     },
     "d768969266b846c797bef82a26a71260": {
      "model_module": "@jupyter-widgets/controls",
      "model_module_version": "2.0.0",
      "model_name": "HTMLStyleModel",
      "state": {
       "description_width": "",
       "font_size": null,
       "text_color": null
      }
     },
     "d84bcb901a25472a88c101af045404c3": {
      "model_module": "@jupyter-widgets/controls",
      "model_module_version": "2.0.0",
      "model_name": "HTMLStyleModel",
      "state": {
       "description_width": "",
       "font_size": null,
       "text_color": null
      }
     },
     "d8ef86aa60cc4a48b4116c1f87f87496": {
      "model_module": "@jupyter-widgets/base",
      "model_module_version": "2.0.0",
      "model_name": "LayoutModel",
      "state": {}
     },
     "d978af6f96da41bfa62595bb3b459a34": {
      "model_module": "@jupyter-widgets/controls",
      "model_module_version": "2.0.0",
      "model_name": "ProgressStyleModel",
      "state": {
       "description_width": ""
      }
     },
     "db375938f7404ac096fb4d1b2c820bce": {
      "model_module": "@jupyter-widgets/base",
      "model_module_version": "2.0.0",
      "model_name": "LayoutModel",
      "state": {}
     },
     "db46e5224a57445b80d9e88f32cd146b": {
      "model_module": "@jupyter-widgets/controls",
      "model_module_version": "2.0.0",
      "model_name": "ProgressStyleModel",
      "state": {
       "description_width": ""
      }
     },
     "dbcf0893ac9947ccbfd1f57deff1f2d0": {
      "model_module": "@jupyter-widgets/controls",
      "model_module_version": "2.0.0",
      "model_name": "HTMLStyleModel",
      "state": {
       "description_width": "",
       "font_size": null,
       "text_color": null
      }
     },
     "ddf4b58e25a34933875427f1294e69cd": {
      "model_module": "@jupyter-widgets/base",
      "model_module_version": "2.0.0",
      "model_name": "LayoutModel",
      "state": {}
     },
     "de3adec8b0b2445daf6ce3df7e16ff87": {
      "model_module": "@jupyter-widgets/controls",
      "model_module_version": "2.0.0",
      "model_name": "FloatProgressModel",
      "state": {
       "bar_style": "success",
       "layout": "IPY_MODEL_23bec4bf79374d03bd8e5e1f2194d3d1",
       "max": 3132668804,
       "style": "IPY_MODEL_007afa4a6ad342258ccedc017b405cf8",
       "value": 3132668804
      }
     },
     "e06bf67deb2148b48afd8cf89937a0e1": {
      "model_module": "@jupyter-widgets/base",
      "model_module_version": "2.0.0",
      "model_name": "LayoutModel",
      "state": {}
     },
     "e0bf9f45e517474fa8f265eeeb48ea37": {
      "model_module": "@jupyter-widgets/controls",
      "model_module_version": "2.0.0",
      "model_name": "HTMLModel",
      "state": {
       "layout": "IPY_MODEL_fdc274438b344178b920f8a860492baf",
       "style": "IPY_MODEL_78be03b9e16c49f2b69ca3d07d281d51",
       "value": " 892M/892M [03:31&lt;00:00, 3.78MB/s]"
      }
     },
     "e16682935af04258bc1ec81b0e6293b6": {
      "model_module": "@jupyter-widgets/base",
      "model_module_version": "2.0.0",
      "model_name": "LayoutModel",
      "state": {}
     },
     "e3fd91e6eaac40cd91d9d8eb8e0ff49a": {
      "model_module": "@jupyter-widgets/controls",
      "model_module_version": "2.0.0",
      "model_name": "HBoxModel",
      "state": {
       "children": [
        "IPY_MODEL_35517cadb58a4cd585211e7cd9aeaf2f",
        "IPY_MODEL_50f747ff61ee4d2c858b3be59420e903",
        "IPY_MODEL_7884a80d69b7424dbcd96369a874aab5"
       ],
       "layout": "IPY_MODEL_8c7c16244c5f4abaaeb25514aa9f124a"
      }
     },
     "e5819d5d8ea94116af01932134b029ac": {
      "model_module": "@jupyter-widgets/controls",
      "model_module_version": "2.0.0",
      "model_name": "ProgressStyleModel",
      "state": {
       "description_width": ""
      }
     },
     "e66f15f6d5564ee5b4ef8f73c24aaf7f": {
      "model_module": "@jupyter-widgets/controls",
      "model_module_version": "2.0.0",
      "model_name": "FloatProgressModel",
      "state": {
       "bar_style": "success",
       "layout": "IPY_MODEL_655953be5e9a473d99a81781e179b792",
       "max": 791656,
       "style": "IPY_MODEL_ac3f4acab1424bc1a5d06b6ccb4c2757",
       "value": 791656
      }
     },
     "e73c999879ee495fb652c0c12efcea42": {
      "model_module": "@jupyter-widgets/controls",
      "model_module_version": "2.0.0",
      "model_name": "HTMLModel",
      "state": {
       "layout": "IPY_MODEL_ce211a2d77c147e080605ca5a5d72bab",
       "style": "IPY_MODEL_ac3ca15578134c7ea86174e2518bc188",
       "value": " 892M/892M [01:16&lt;00:00, 10.9MB/s]"
      }
     },
     "ea5051ecddaa4bc3a374e22ed72f4265": {
      "model_module": "@jupyter-widgets/controls",
      "model_module_version": "2.0.0",
      "model_name": "HTMLStyleModel",
      "state": {
       "description_width": "",
       "font_size": null,
       "text_color": null
      }
     },
     "eab1d648193045d5b29c572013ce1ce1": {
      "model_module": "@jupyter-widgets/controls",
      "model_module_version": "2.0.0",
      "model_name": "HTMLStyleModel",
      "state": {
       "description_width": "",
       "font_size": null,
       "text_color": null
      }
     },
     "eaf6144ae1364b66910261043ff1926a": {
      "model_module": "@jupyter-widgets/controls",
      "model_module_version": "2.0.0",
      "model_name": "HTMLStyleModel",
      "state": {
       "description_width": "",
       "font_size": null,
       "text_color": null
      }
     },
     "eb7040cab52e4a8b9fd979d4693dcdb1": {
      "model_module": "@jupyter-widgets/controls",
      "model_module_version": "2.0.0",
      "model_name": "ProgressStyleModel",
      "state": {
       "description_width": ""
      }
     },
     "eba674c72b584c3ba55d9976663470ef": {
      "model_module": "@jupyter-widgets/base",
      "model_module_version": "2.0.0",
      "model_name": "LayoutModel",
      "state": {}
     },
     "ebe6e5a75b0b43448b9ca08b97111c3b": {
      "model_module": "@jupyter-widgets/controls",
      "model_module_version": "2.0.0",
      "model_name": "HBoxModel",
      "state": {
       "children": [
        "IPY_MODEL_9af3a5a156c94734805f8009fd5d7ecb",
        "IPY_MODEL_2dd9b94b4e7b43afb7ec6482c1518abf",
        "IPY_MODEL_f1b52cafe62642e3acd942e69d47209c"
       ],
       "layout": "IPY_MODEL_0e66be1474c64035bcc561061cb69781"
      }
     },
     "ed7e571f8ad04a50a6a97c04d57bc1a0": {
      "model_module": "@jupyter-widgets/controls",
      "model_module_version": "2.0.0",
      "model_name": "HTMLStyleModel",
      "state": {
       "description_width": "",
       "font_size": null,
       "text_color": null
      }
     },
     "ee2b3ee3f98d4217a7d79cf0a25eda90": {
      "model_module": "@jupyter-widgets/controls",
      "model_module_version": "2.0.0",
      "model_name": "HTMLStyleModel",
      "state": {
       "description_width": "",
       "font_size": null,
       "text_color": null
      }
     },
     "f0c96ecc097e4937a2d797952b394bd7": {
      "model_module": "@jupyter-widgets/controls",
      "model_module_version": "2.0.0",
      "model_name": "HTMLModel",
      "state": {
       "layout": "IPY_MODEL_fbc3ac0756a344a8a2f16745437ea5d8",
       "style": "IPY_MODEL_5e3254f1c6fe4d82b510171561878279",
       "value": "spiece.model: 100%"
      }
     },
     "f171ebc0f6744bf49e98e1bee61732d2": {
      "model_module": "@jupyter-widgets/controls",
      "model_module_version": "2.0.0",
      "model_name": "HBoxModel",
      "state": {
       "children": [
        "IPY_MODEL_cbc7a41f115745b4a17db03be3fa28e7",
        "IPY_MODEL_602b4e4267d94357b3c9243ed7d61e06",
        "IPY_MODEL_e0bf9f45e517474fa8f265eeeb48ea37"
       ],
       "layout": "IPY_MODEL_a66aa9a9cef14ade81064e8c18f4a446"
      }
     },
     "f1b52cafe62642e3acd942e69d47209c": {
      "model_module": "@jupyter-widgets/controls",
      "model_module_version": "2.0.0",
      "model_name": "HTMLModel",
      "state": {
       "layout": "IPY_MODEL_00dbec4d64124d41a20ec9f619835733",
       "style": "IPY_MODEL_5d6868b4037e4020bc503331f499cfda",
       "value": " 147/147 [00:00&lt;00:00, 36.1kB/s]"
      }
     },
     "f51f07b084c949e5ab208c3ff121df42": {
      "model_module": "@jupyter-widgets/base",
      "model_module_version": "2.0.0",
      "model_name": "LayoutModel",
      "state": {}
     },
     "f9998670be294d27a8e572d08427eccc": {
      "model_module": "@jupyter-widgets/base",
      "model_module_version": "2.0.0",
      "model_name": "LayoutModel",
      "state": {}
     },
     "f9da1ae3c1974069902bcd64399a3f32": {
      "model_module": "@jupyter-widgets/controls",
      "model_module_version": "2.0.0",
      "model_name": "HTMLModel",
      "state": {
       "layout": "IPY_MODEL_359dd7e60fbc49e3851f396b1f049939",
       "style": "IPY_MODEL_4fff75e2c5284adc92c3bf08a476f253",
       "value": " 1.39M/1.39M [00:00&lt;00:00, 11.8MB/s]"
      }
     },
     "fa37951c9e464efd8ea174cd9e9b4687": {
      "model_module": "@jupyter-widgets/base",
      "model_module_version": "2.0.0",
      "model_name": "LayoutModel",
      "state": {}
     },
     "fae42f9b2a714a22b50ec825444bc706": {
      "model_module": "@jupyter-widgets/controls",
      "model_module_version": "2.0.0",
      "model_name": "HTMLModel",
      "state": {
       "layout": "IPY_MODEL_e06bf67deb2148b48afd8cf89937a0e1",
       "style": "IPY_MODEL_62f8d2fd9c864da0a281a24b8b6ea395",
       "value": "tokenizer.json: 100%"
      }
     },
     "fbc3ac0756a344a8a2f16745437ea5d8": {
      "model_module": "@jupyter-widgets/base",
      "model_module_version": "2.0.0",
      "model_name": "LayoutModel",
      "state": {}
     },
     "fc1e6aec31f9466cbb51a312a0811e84": {
      "model_module": "@jupyter-widgets/controls",
      "model_module_version": "2.0.0",
      "model_name": "ProgressStyleModel",
      "state": {
       "description_width": ""
      }
     },
     "fdc274438b344178b920f8a860492baf": {
      "model_module": "@jupyter-widgets/base",
      "model_module_version": "2.0.0",
      "model_name": "LayoutModel",
      "state": {}
     },
     "fe3eaabb2b8c4167a8cad655e45faf34": {
      "model_module": "@jupyter-widgets/base",
      "model_module_version": "2.0.0",
      "model_name": "LayoutModel",
      "state": {}
     },
     "febbb26d26ae4cc0b6fa464742a2f7d3": {
      "model_module": "@jupyter-widgets/controls",
      "model_module_version": "2.0.0",
      "model_name": "FloatProgressModel",
      "state": {
       "bar_style": "success",
       "layout": "IPY_MODEL_afd310e5cd78438eb28bcf92ff0c724b",
       "max": 791656,
       "style": "IPY_MODEL_eb7040cab52e4a8b9fd979d4693dcdb1",
       "value": 791656
      }
     },
     "febe6013fec54b9690163a653f57f322": {
      "model_module": "@jupyter-widgets/base",
      "model_module_version": "2.0.0",
      "model_name": "LayoutModel",
      "state": {}
     },
     "ff91ccf0983848cdaccb8a8bdb67fed2": {
      "model_module": "@jupyter-widgets/controls",
      "model_module_version": "2.0.0",
      "model_name": "FloatProgressModel",
      "state": {
       "bar_style": "success",
       "layout": "IPY_MODEL_95e0bf18ac424173a2a53a3007eaf9d0",
       "max": 1208,
       "style": "IPY_MODEL_bbee724a2cb8432fb962e9082d454cb2",
       "value": 1208
      }
     },
     "fff516566fc749cc83bf1254e35c9ab1": {
      "model_module": "@jupyter-widgets/base",
      "model_module_version": "2.0.0",
      "model_name": "LayoutModel",
      "state": {}
     }
    },
    "version_major": 2,
    "version_minor": 0
   }
  }
 },
 "nbformat": 4,
 "nbformat_minor": 5
}
